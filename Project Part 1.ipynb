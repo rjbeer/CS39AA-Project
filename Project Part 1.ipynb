{
 "cells": [
  {
   "cell_type": "markdown",
   "id": "71f751bd",
   "metadata": {
    "papermill": {
     "duration": 0.004201,
     "end_time": "2023-11-12T08:02:35.392620",
     "exception": false,
     "start_time": "2023-11-12T08:02:35.388419",
     "status": "completed"
    },
    "tags": []
   },
   "source": [
    "# Project Part 1\n",
    "\n",
    "[![Kaggle](https://kaggle.com/static/images/open-in-kaggle.svg)](https://kaggle.com/kernels/welcome?src=https://github.com/rjbeer/CS39AA-Project/blob/main/Project%20Part%201.ipynb)"
   ]
  },
  {
   "cell_type": "markdown",
   "id": "9f29aa10",
   "metadata": {
    "papermill": {
     "duration": 0.003353,
     "end_time": "2023-11-12T08:02:35.401863",
     "exception": false,
     "start_time": "2023-11-12T08:02:35.398510",
     "status": "completed"
    },
    "tags": []
   },
   "source": [
    "## 1.Introduction\n",
    "\n",
    "The purpose of this project is to explore the effects of different hyperparameters, in terms of accuracy, on their respective models. I will start with random forest and compare it side by side to other models. It should be noted this is an deeper analysis of internal hyperperameraters and may or may not delve into hidden layers, dropout rates, etc., and is purely informational. The results from this project are not meant to be used as a final model and are more intended to be used as a potential starting point when building Machine Learning or Deep Learning models.\n",
    "\n",
    "The chosen dataset for this project is \"Starbucks Reviews Dataset\" published by Kaggle user Harshal H on kaggle at https://www.kaggle.com/datasets/harshalhonde/starbucks-reviews-dataset.\n",
    "\n",
    "## Important Note\n",
    "\n",
    "The code below does run fully on kaggle, however, if the Run All button is selected and there is an error then the dataset must be added in order to run it. To do this, click on the link above to view the dataset. Then on the notebook section on the right, click on add data, which should bring up a recently viewed datasets section where the Starbucks Reviews Dataset can be located. Click on the plus sign and add the dataset. Afterwards the code will work. Unfortunately no way of linking the file to the relevant github account was found.\n",
    "\n",
    "## Method\n",
    "\n",
    "The models will take as input the review itself and predict wether or not the review is either a positive or negative one. As mentioned earlier this will be first be done with a random forest model, and then with other models, likely Decision Tree Classifier, or Gradient boosting classifier. Though there are other candidates to explore, those three are the most likely candidates to use for the purposes of this particular project.After getting the initial accuracy hyperparameters such as number of leaves, tree depth, etc. will be adjusted and tuned for higher accuracy. \n",
    "\n",
    "After all the data has been collected the original hyperparameters and the final hyperparameters will be posted. The process will be repeated for the second, and potentially third, chosen models. The accuracy score of all hyperparameter values tested and their resulting accuracy will also be posted, but will not be run with the code as this can take quite a bit time depending on the model. Instead they will be tested and the data collected will be used to show how impactful by comparison to others the individual hyperparameter is. "
   ]
  },
  {
   "cell_type": "markdown",
   "id": "c94f6756",
   "metadata": {
    "papermill": {
     "duration": 0.003254,
     "end_time": "2023-11-12T08:02:35.408738",
     "exception": false,
     "start_time": "2023-11-12T08:02:35.405484",
     "status": "completed"
    },
    "tags": []
   },
   "source": [
    "## 2. Exploratory Data Analysis\n",
    "\n",
    "To begin the dataset must be explored to better understand what the data looks like. This will then be used to determine what data will be used, and of that data what can be used to train the chosen models."
   ]
  },
  {
   "cell_type": "code",
   "execution_count": 1,
   "id": "63a21aa2",
   "metadata": {
    "execution": {
     "iopub.execute_input": "2023-11-12T08:02:35.417716Z",
     "iopub.status.busy": "2023-11-12T08:02:35.417223Z",
     "iopub.status.idle": "2023-11-12T08:02:36.216746Z",
     "shell.execute_reply": "2023-11-12T08:02:36.215887Z"
    },
    "papermill": {
     "duration": 0.806529,
     "end_time": "2023-11-12T08:02:36.218824",
     "exception": false,
     "start_time": "2023-11-12T08:02:35.412295",
     "status": "completed"
    },
    "tags": []
   },
   "outputs": [
    {
     "name": "stdout",
     "output_type": "stream",
     "text": [
      "/kaggle/input/starbucks-reviews-dataset/reviews_data.csv\n"
     ]
    }
   ],
   "source": [
    "import pandas as pd\n",
    "import numpy as np\n",
    "\n",
    "import os\n",
    "\n",
    "for dirname, _, filenames in os.walk('/kaggle/input'):\n",
    "    for filename in filenames:\n",
    "        print(os.path.join(dirname, filename))\n",
    "# ..."
   ]
  },
  {
   "cell_type": "code",
   "execution_count": 2,
   "id": "a06765ab",
   "metadata": {
    "execution": {
     "iopub.execute_input": "2023-11-12T08:02:36.228479Z",
     "iopub.status.busy": "2023-11-12T08:02:36.227740Z",
     "iopub.status.idle": "2023-11-12T08:02:36.278373Z",
     "shell.execute_reply": "2023-11-12T08:02:36.276910Z"
    },
    "papermill": {
     "duration": 0.057906,
     "end_time": "2023-11-12T08:02:36.280584",
     "exception": false,
     "start_time": "2023-11-12T08:02:36.222678",
     "status": "completed"
    },
    "tags": []
   },
   "outputs": [
    {
     "data": {
      "text/html": [
       "<div>\n",
       "<style scoped>\n",
       "    .dataframe tbody tr th:only-of-type {\n",
       "        vertical-align: middle;\n",
       "    }\n",
       "\n",
       "    .dataframe tbody tr th {\n",
       "        vertical-align: top;\n",
       "    }\n",
       "\n",
       "    .dataframe thead th {\n",
       "        text-align: right;\n",
       "    }\n",
       "</style>\n",
       "<table border=\"1\" class=\"dataframe\">\n",
       "  <thead>\n",
       "    <tr style=\"text-align: right;\">\n",
       "      <th></th>\n",
       "      <th>name</th>\n",
       "      <th>location</th>\n",
       "      <th>Date</th>\n",
       "      <th>Rating</th>\n",
       "      <th>Review</th>\n",
       "      <th>Image_Links</th>\n",
       "    </tr>\n",
       "  </thead>\n",
       "  <tbody>\n",
       "    <tr>\n",
       "      <th>0</th>\n",
       "      <td>Helen</td>\n",
       "      <td>Wichita Falls, TX</td>\n",
       "      <td>Reviewed Sept. 13, 2023</td>\n",
       "      <td>5.0</td>\n",
       "      <td>Amber and LaDonna at the Starbucks on Southwes...</td>\n",
       "      <td>['No Images']</td>\n",
       "    </tr>\n",
       "    <tr>\n",
       "      <th>1</th>\n",
       "      <td>Courtney</td>\n",
       "      <td>Apopka, FL</td>\n",
       "      <td>Reviewed July 16, 2023</td>\n",
       "      <td>5.0</td>\n",
       "      <td>** at the Starbucks by the fire station on 436...</td>\n",
       "      <td>['No Images']</td>\n",
       "    </tr>\n",
       "    <tr>\n",
       "      <th>2</th>\n",
       "      <td>Daynelle</td>\n",
       "      <td>Cranberry Twp, PA</td>\n",
       "      <td>Reviewed July 5, 2023</td>\n",
       "      <td>5.0</td>\n",
       "      <td>I just wanted to go out of my way to recognize...</td>\n",
       "      <td>['https://media.consumeraffairs.com/files/cach...</td>\n",
       "    </tr>\n",
       "    <tr>\n",
       "      <th>3</th>\n",
       "      <td>Taylor</td>\n",
       "      <td>Seattle, WA</td>\n",
       "      <td>Reviewed May 26, 2023</td>\n",
       "      <td>5.0</td>\n",
       "      <td>Me and my friend were at Starbucks and my card...</td>\n",
       "      <td>['No Images']</td>\n",
       "    </tr>\n",
       "    <tr>\n",
       "      <th>4</th>\n",
       "      <td>Tenessa</td>\n",
       "      <td>Gresham, OR</td>\n",
       "      <td>Reviewed Jan. 22, 2023</td>\n",
       "      <td>5.0</td>\n",
       "      <td>I’m on this kick of drinking 5 cups of warm wa...</td>\n",
       "      <td>['https://media.consumeraffairs.com/files/cach...</td>\n",
       "    </tr>\n",
       "  </tbody>\n",
       "</table>\n",
       "</div>"
      ],
      "text/plain": [
       "       name           location                     Date  Rating  \\\n",
       "0     Helen  Wichita Falls, TX  Reviewed Sept. 13, 2023     5.0   \n",
       "1  Courtney         Apopka, FL   Reviewed July 16, 2023     5.0   \n",
       "2  Daynelle  Cranberry Twp, PA    Reviewed July 5, 2023     5.0   \n",
       "3    Taylor        Seattle, WA    Reviewed May 26, 2023     5.0   \n",
       "4   Tenessa        Gresham, OR   Reviewed Jan. 22, 2023     5.0   \n",
       "\n",
       "                                              Review  \\\n",
       "0  Amber and LaDonna at the Starbucks on Southwes...   \n",
       "1  ** at the Starbucks by the fire station on 436...   \n",
       "2  I just wanted to go out of my way to recognize...   \n",
       "3  Me and my friend were at Starbucks and my card...   \n",
       "4  I’m on this kick of drinking 5 cups of warm wa...   \n",
       "\n",
       "                                         Image_Links  \n",
       "0                                      ['No Images']  \n",
       "1                                      ['No Images']  \n",
       "2  ['https://media.consumeraffairs.com/files/cach...  \n",
       "3                                      ['No Images']  \n",
       "4  ['https://media.consumeraffairs.com/files/cach...  "
      ]
     },
     "execution_count": 2,
     "metadata": {},
     "output_type": "execute_result"
    }
   ],
   "source": [
    "input_data_path = '/kaggle/input/starbucks-reviews-dataset/'\n",
    "training_data_file = 'reviews_data.csv'\n",
    "df = pd.read_csv(input_data_path + training_data_file)\n",
    "df.head()"
   ]
  },
  {
   "cell_type": "code",
   "execution_count": 3,
   "id": "e4d7fcf4",
   "metadata": {
    "execution": {
     "iopub.execute_input": "2023-11-12T08:02:36.290346Z",
     "iopub.status.busy": "2023-11-12T08:02:36.290006Z",
     "iopub.status.idle": "2023-11-12T08:02:36.317369Z",
     "shell.execute_reply": "2023-11-12T08:02:36.315952Z"
    },
    "papermill": {
     "duration": 0.034657,
     "end_time": "2023-11-12T08:02:36.319586",
     "exception": false,
     "start_time": "2023-11-12T08:02:36.284929",
     "status": "completed"
    },
    "tags": []
   },
   "outputs": [
    {
     "name": "stdout",
     "output_type": "stream",
     "text": [
      "<class 'pandas.core.frame.DataFrame'>\n",
      "RangeIndex: 850 entries, 0 to 849\n",
      "Data columns (total 6 columns):\n",
      " #   Column       Non-Null Count  Dtype  \n",
      "---  ------       --------------  -----  \n",
      " 0   name         850 non-null    object \n",
      " 1   location     850 non-null    object \n",
      " 2   Date         850 non-null    object \n",
      " 3   Rating       705 non-null    float64\n",
      " 4   Review       850 non-null    object \n",
      " 5   Image_Links  850 non-null    object \n",
      "dtypes: float64(1), object(5)\n",
      "memory usage: 40.0+ KB\n"
     ]
    }
   ],
   "source": [
    "df.info()"
   ]
  },
  {
   "cell_type": "code",
   "execution_count": 4,
   "id": "2bdee3c3",
   "metadata": {
    "execution": {
     "iopub.execute_input": "2023-11-12T08:02:36.330420Z",
     "iopub.status.busy": "2023-11-12T08:02:36.330095Z",
     "iopub.status.idle": "2023-11-12T08:02:36.337551Z",
     "shell.execute_reply": "2023-11-12T08:02:36.336717Z"
    },
    "papermill": {
     "duration": 0.015033,
     "end_time": "2023-11-12T08:02:36.339316",
     "exception": false,
     "start_time": "2023-11-12T08:02:36.324283",
     "status": "completed"
    },
    "tags": []
   },
   "outputs": [
    {
     "data": {
      "text/plain": [
       "name             0\n",
       "location         0\n",
       "Date             0\n",
       "Rating         145\n",
       "Review           0\n",
       "Image_Links      0\n",
       "dtype: int64"
      ]
     },
     "execution_count": 4,
     "metadata": {},
     "output_type": "execute_result"
    }
   ],
   "source": [
    "df.isnull().sum()"
   ]
  },
  {
   "cell_type": "code",
   "execution_count": 5,
   "id": "402d750a",
   "metadata": {
    "execution": {
     "iopub.execute_input": "2023-11-12T08:02:36.348950Z",
     "iopub.status.busy": "2023-11-12T08:02:36.348592Z",
     "iopub.status.idle": "2023-11-12T08:02:36.355355Z",
     "shell.execute_reply": "2023-11-12T08:02:36.354281Z"
    },
    "papermill": {
     "duration": 0.01418,
     "end_time": "2023-11-12T08:02:36.357619",
     "exception": false,
     "start_time": "2023-11-12T08:02:36.343439",
     "status": "completed"
    },
    "tags": []
   },
   "outputs": [
    {
     "data": {
      "text/plain": [
       "(850, 6)"
      ]
     },
     "execution_count": 5,
     "metadata": {},
     "output_type": "execute_result"
    }
   ],
   "source": [
    "df.shape"
   ]
  },
  {
   "cell_type": "code",
   "execution_count": 6,
   "id": "5512358e",
   "metadata": {
    "execution": {
     "iopub.execute_input": "2023-11-12T08:02:36.367930Z",
     "iopub.status.busy": "2023-11-12T08:02:36.367596Z",
     "iopub.status.idle": "2023-11-12T08:02:36.374300Z",
     "shell.execute_reply": "2023-11-12T08:02:36.373034Z"
    },
    "papermill": {
     "duration": 0.01422,
     "end_time": "2023-11-12T08:02:36.376322",
     "exception": false,
     "start_time": "2023-11-12T08:02:36.362102",
     "status": "completed"
    },
    "tags": []
   },
   "outputs": [
    {
     "data": {
      "text/plain": [
       "['name', 'location', 'Date', 'Rating', 'Review', 'Image_Links']"
      ]
     },
     "execution_count": 6,
     "metadata": {},
     "output_type": "execute_result"
    }
   ],
   "source": [
    "df.columns.tolist()"
   ]
  },
  {
   "cell_type": "markdown",
   "id": "4d192ce3",
   "metadata": {
    "papermill": {
     "duration": 0.00408,
     "end_time": "2023-11-12T08:02:36.386467",
     "exception": false,
     "start_time": "2023-11-12T08:02:36.382387",
     "status": "completed"
    },
    "tags": []
   },
   "source": [
    "\n",
    "\n",
    "The first peek into the dataset shows us quite a bit. First, the data consists of 6 columns as listed above. For the purposes of this model the only columns that will be used are 'Rating' and 'Review'as they are the two columns that give the relevant data. 'Name', 'location', and 'Image_Links' are irrellevent to what we want to look at, and though 'Date' may yeild something useful, perhaps there was a trend towards positive or negative reviews depending on the year, it is also not needed as that is beyond the scope of this particular project. \n",
    "Second, there are 850 entries in the dataset, of which there are 705 non-null values in the ratings column. The null data, consisting of 145 total entries, will be removed so that there is less chance that bad data is introduced, potentially decreasing the models predictions.\n",
    "\n",
    "A bargraph of the 'ratings' collumn will be produced to reveal the the distribution of these data.\n",
    "The method for producing the bargraph and for cleaning the data later on was produced by Kaggle user Neelabh Somani will be used to show us the data. The original code and method for doing this is located at:\n",
    "\n",
    "https://www.kaggle.com/code/neelabhsomani/starbucks-sentiment-analysis-81-accuracy,\n",
    "accessed on 11/08/2023\n",
    "\n",
    "Their method for sorting the data, that being into 0 for negative reviews and 1 for positive reviews, will be used as well. The details of this sorting will be that if the rating is lower than 3 that review will be considered negative, and equal to or greater than 3 will be a positive review."
   ]
  },
  {
   "cell_type": "code",
   "execution_count": 7,
   "id": "0e651625",
   "metadata": {
    "execution": {
     "iopub.execute_input": "2023-11-12T08:02:36.396631Z",
     "iopub.status.busy": "2023-11-12T08:02:36.396250Z",
     "iopub.status.idle": "2023-11-12T08:02:36.408149Z",
     "shell.execute_reply": "2023-11-12T08:02:36.407263Z"
    },
    "papermill": {
     "duration": 0.019346,
     "end_time": "2023-11-12T08:02:36.410060",
     "exception": false,
     "start_time": "2023-11-12T08:02:36.390714",
     "status": "completed"
    },
    "tags": []
   },
   "outputs": [
    {
     "data": {
      "text/html": [
       "<div>\n",
       "<style scoped>\n",
       "    .dataframe tbody tr th:only-of-type {\n",
       "        vertical-align: middle;\n",
       "    }\n",
       "\n",
       "    .dataframe tbody tr th {\n",
       "        vertical-align: top;\n",
       "    }\n",
       "\n",
       "    .dataframe thead th {\n",
       "        text-align: right;\n",
       "    }\n",
       "</style>\n",
       "<table border=\"1\" class=\"dataframe\">\n",
       "  <thead>\n",
       "    <tr style=\"text-align: right;\">\n",
       "      <th></th>\n",
       "      <th>name</th>\n",
       "      <th>location</th>\n",
       "      <th>Date</th>\n",
       "      <th>Rating</th>\n",
       "      <th>Review</th>\n",
       "      <th>Image_Links</th>\n",
       "    </tr>\n",
       "  </thead>\n",
       "  <tbody>\n",
       "    <tr>\n",
       "      <th>704</th>\n",
       "      <td>James</td>\n",
       "      <td>Kansas City, MO</td>\n",
       "      <td>Reviewed July 25, 2011</td>\n",
       "      <td>NaN</td>\n",
       "      <td>I just wanted to amend my email the I sent to ...</td>\n",
       "      <td>['No Images']</td>\n",
       "    </tr>\n",
       "    <tr>\n",
       "      <th>705</th>\n",
       "      <td>James</td>\n",
       "      <td>Kansas City, MO</td>\n",
       "      <td>Reviewed July 25, 2011</td>\n",
       "      <td>NaN</td>\n",
       "      <td>Recently, I have gone to your Starbucks at Bar...</td>\n",
       "      <td>['No Images']</td>\n",
       "    </tr>\n",
       "    <tr>\n",
       "      <th>706</th>\n",
       "      <td>Mike</td>\n",
       "      <td>Revere, ma</td>\n",
       "      <td>Reviewed June 26, 2011</td>\n",
       "      <td>NaN</td>\n",
       "      <td>Upon my first visit to this location on my way...</td>\n",
       "      <td>['No Images']</td>\n",
       "    </tr>\n",
       "    <tr>\n",
       "      <th>707</th>\n",
       "      <td>Hughes</td>\n",
       "      <td>Macclesfield, Other</td>\n",
       "      <td>Reviewed Jan. 13, 2011</td>\n",
       "      <td>NaN</td>\n",
       "      <td>Recently, British Royal Marines in Iraq wrote ...</td>\n",
       "      <td>['No Images']</td>\n",
       "    </tr>\n",
       "    <tr>\n",
       "      <th>708</th>\n",
       "      <td>Sherrilynn</td>\n",
       "      <td>Jenison, MI</td>\n",
       "      <td>Reviewed Jan. 4, 2011</td>\n",
       "      <td>NaN</td>\n",
       "      <td>On the way to catch our plane, we got a medium...</td>\n",
       "      <td>['No Images']</td>\n",
       "    </tr>\n",
       "  </tbody>\n",
       "</table>\n",
       "</div>"
      ],
      "text/plain": [
       "           name             location                    Date  Rating  \\\n",
       "704       James      Kansas City, MO  Reviewed July 25, 2011     NaN   \n",
       "705       James      Kansas City, MO  Reviewed July 25, 2011     NaN   \n",
       "706        Mike           Revere, ma  Reviewed June 26, 2011     NaN   \n",
       "707      Hughes  Macclesfield, Other  Reviewed Jan. 13, 2011     NaN   \n",
       "708  Sherrilynn          Jenison, MI   Reviewed Jan. 4, 2011     NaN   \n",
       "\n",
       "                                                Review    Image_Links  \n",
       "704  I just wanted to amend my email the I sent to ...  ['No Images']  \n",
       "705  Recently, I have gone to your Starbucks at Bar...  ['No Images']  \n",
       "706  Upon my first visit to this location on my way...  ['No Images']  \n",
       "707  Recently, British Royal Marines in Iraq wrote ...  ['No Images']  \n",
       "708  On the way to catch our plane, we got a medium...  ['No Images']  "
      ]
     },
     "execution_count": 7,
     "metadata": {},
     "output_type": "execute_result"
    }
   ],
   "source": [
    "X_target = df[df['Rating'].isnull()]\n",
    "X_target.head()"
   ]
  },
  {
   "cell_type": "code",
   "execution_count": 8,
   "id": "5d7c9905",
   "metadata": {
    "execution": {
     "iopub.execute_input": "2023-11-12T08:02:36.420895Z",
     "iopub.status.busy": "2023-11-12T08:02:36.420574Z",
     "iopub.status.idle": "2023-11-12T08:02:36.428082Z",
     "shell.execute_reply": "2023-11-12T08:02:36.427087Z"
    },
    "papermill": {
     "duration": 0.015093,
     "end_time": "2023-11-12T08:02:36.429920",
     "exception": false,
     "start_time": "2023-11-12T08:02:36.414827",
     "status": "completed"
    },
    "tags": []
   },
   "outputs": [
    {
     "data": {
      "text/plain": [
       "(145, 6)"
      ]
     },
     "execution_count": 8,
     "metadata": {},
     "output_type": "execute_result"
    }
   ],
   "source": [
    "X_target.shape"
   ]
  },
  {
   "cell_type": "code",
   "execution_count": 9,
   "id": "669f76e9",
   "metadata": {
    "execution": {
     "iopub.execute_input": "2023-11-12T08:02:36.440733Z",
     "iopub.status.busy": "2023-11-12T08:02:36.440433Z",
     "iopub.status.idle": "2023-11-12T08:02:36.452023Z",
     "shell.execute_reply": "2023-11-12T08:02:36.450630Z"
    },
    "papermill": {
     "duration": 0.019533,
     "end_time": "2023-11-12T08:02:36.454205",
     "exception": false,
     "start_time": "2023-11-12T08:02:36.434672",
     "status": "completed"
    },
    "tags": []
   },
   "outputs": [
    {
     "data": {
      "text/plain": [
       "name           0\n",
       "location       0\n",
       "Date           0\n",
       "Rating         0\n",
       "Review         0\n",
       "Image_Links    0\n",
       "dtype: int64"
      ]
     },
     "execution_count": 9,
     "metadata": {},
     "output_type": "execute_result"
    }
   ],
   "source": [
    "df_copy = df.copy(deep=True)\n",
    "df_copy.dropna(inplace=True)\n",
    "df_copy.isnull().sum()"
   ]
  },
  {
   "cell_type": "markdown",
   "id": "e938b3ad",
   "metadata": {
    "papermill": {
     "duration": 0.004494,
     "end_time": "2023-11-12T08:02:36.463781",
     "exception": false,
     "start_time": "2023-11-12T08:02:36.459287",
     "status": "completed"
    },
    "tags": []
   },
   "source": [
    "Above a copy of the null data that will be removed is created as well as a deep copy of our original data that we can safe manipulate and clean without potentially changing the original dataset used. The copy of the data to be removed may be needed at a later time so we will make sure to keep ahold of that data in the possibility that it is needed.\n",
    "\n",
    "The deep copy then has the null data removed. Below the new shape is revealed and there are now only 705 entries that will be used, matching the number previously stated. We can then proceed to look at the data distribution."
   ]
  },
  {
   "cell_type": "code",
   "execution_count": 10,
   "id": "cea6e693",
   "metadata": {
    "execution": {
     "iopub.execute_input": "2023-11-12T08:02:36.474957Z",
     "iopub.status.busy": "2023-11-12T08:02:36.474582Z",
     "iopub.status.idle": "2023-11-12T08:02:36.480810Z",
     "shell.execute_reply": "2023-11-12T08:02:36.479921Z"
    },
    "papermill": {
     "duration": 0.013895,
     "end_time": "2023-11-12T08:02:36.482458",
     "exception": false,
     "start_time": "2023-11-12T08:02:36.468563",
     "status": "completed"
    },
    "tags": []
   },
   "outputs": [
    {
     "data": {
      "text/plain": [
       "(705, 6)"
      ]
     },
     "execution_count": 10,
     "metadata": {},
     "output_type": "execute_result"
    }
   ],
   "source": [
    "df_copy.shape"
   ]
  },
  {
   "cell_type": "code",
   "execution_count": 11,
   "id": "9cb2c789",
   "metadata": {
    "execution": {
     "iopub.execute_input": "2023-11-12T08:02:36.494187Z",
     "iopub.status.busy": "2023-11-12T08:02:36.493832Z",
     "iopub.status.idle": "2023-11-12T08:02:36.726102Z",
     "shell.execute_reply": "2023-11-12T08:02:36.725162Z"
    },
    "papermill": {
     "duration": 0.240499,
     "end_time": "2023-11-12T08:02:36.728074",
     "exception": false,
     "start_time": "2023-11-12T08:02:36.487575",
     "status": "completed"
    },
    "tags": []
   },
   "outputs": [
    {
     "data": {
      "image/png": "[encoded data removed]",
      "text/plain": [
       "<Figure size 640x480 with 1 Axes>"
      ]
     },
     "metadata": {},
     "output_type": "display_data"
    }
   ],
   "source": [
    "from matplotlib import pyplot as plt\n",
    "plt.style.use('ggplot')\n",
    "freq = df_copy['Rating'].value_counts()\n",
    "freq.plot(kind='bar', title='Frequency of ratings', xlabel = 'Rating', ylabel = 'Frequency')\n",
    "plt.grid()\n",
    "plt.show()"
   ]
  },
  {
   "cell_type": "markdown",
   "id": "f9948994",
   "metadata": {
    "papermill": {
     "duration": 0.004467,
     "end_time": "2023-11-12T08:02:36.737524",
     "exception": false,
     "start_time": "2023-11-12T08:02:36.733057",
     "status": "completed"
    },
    "tags": []
   },
   "source": [
    "From the graph above it can be seen that the reviews are very unbalanced, with over half of the total of ratings being 1 star ratings. There may not be avoiding a clear bias without trimming the data. For the purposes of this project we will use the data as is at first and then make adjustments to the data set if necessary."
   ]
  }
 ],
 "metadata": {
  "kernelspec": {
   "display_name": "Python 3",
   "language": "python",
   "name": "python3"
  },
  "language_info": {
   "codemirror_mode": {
    "name": "ipython",
    "version": 3
   },
   "file_extension": ".py",
   "mimetype": "text/x-python",
   "name": "python",
   "nbconvert_exporter": "python",
   "pygments_lexer": "ipython3",
   "version": "3.10.12"
  },
  "papermill": {
   "default_parameters": {},
   "duration": 5.107727,
   "end_time": "2023-11-12T08:02:37.162177",
   "environment_variables": {},
   "exception": null,
   "input_path": "__notebook__.ipynb",
   "output_path": "__notebook__.ipynb",
   "parameters": {},
   "start_time": "2023-11-12T08:02:32.054450",
   "version": "2.4.0"
  }
 },
 "nbformat": 4,
 "nbformat_minor": 5
}

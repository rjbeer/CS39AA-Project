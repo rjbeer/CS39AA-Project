{
 "cells": [
  {
   "cell_type": "markdown",
   "id": "76ad28f2",
   "metadata": {
    "papermill": {
     "duration": 0.004514,
     "end_time": "2023-11-26T08:33:54.520585",
     "exception": false,
     "start_time": "2023-11-26T08:33:54.516071",
     "status": "completed"
    },
    "tags": []
   },
   "source": [
    "# Project Part 2\n",
    "\n",
    "[![Kaggle](https://kaggle.com/static/images/open-in-kaggle.svg)](https://kaggle.com/kernels/welcome?src=https://github.com/rjbeer/CS39AA-Project/blob/main/Project%20Part%201.ipynb)\n",
    "\n",
    "# update kaggle link to accurately reflect part 2"
   ]
  },
  {
   "cell_type": "markdown",
   "id": "c05efacc",
   "metadata": {
    "papermill": {
     "duration": 0.003954,
     "end_time": "2023-11-26T08:33:54.531333",
     "exception": false,
     "start_time": "2023-11-26T08:33:54.527379",
     "status": "completed"
    },
    "tags": []
   },
   "source": [
    "# Setting a Baseline\n",
    "\n",
    "As mention in part 1 of the project a baseline model will be created for 2 machine learning models. First random forest will be used and a baseline will be created, then the same will be done for HistGradientBoostingClassifier. Before this can be done however, previous steps from the notebook Project Part 1 must be redone so that we can begin."
   ]
  },
  {
   "cell_type": "code",
   "execution_count": 1,
   "id": "960523f0",
   "metadata": {
    "_cell_guid": "b1076dfc-b9ad-4769-8c92-a6c4dae69d19",
    "_uuid": "8f2839f25d086af736a60e9eeb907d3b93b6e0e5",
    "execution": {
     "iopub.execute_input": "2023-11-26T08:33:54.542152Z",
     "iopub.status.busy": "2023-11-26T08:33:54.541287Z",
     "iopub.status.idle": "2023-11-26T08:33:54.946155Z",
     "shell.execute_reply": "2023-11-26T08:33:54.944917Z"
    },
    "papermill": {
     "duration": 0.413655,
     "end_time": "2023-11-26T08:33:54.949048",
     "exception": false,
     "start_time": "2023-11-26T08:33:54.535393",
     "status": "completed"
    },
    "tags": []
   },
   "outputs": [
    {
     "name": "stdout",
     "output_type": "stream",
     "text": [
      "/kaggle/input/starbucks-reviews-dataset/reviews_data.csv\n"
     ]
    }
   ],
   "source": [
    "# This Python 3 environment comes with many helpful analytics libraries installed\n",
    "# It is defined by the kaggle/python Docker image: https://github.com/kaggle/docker-python\n",
    "# For example, here's several helpful packages to load\n",
    "\n",
    "import numpy as np # linear algebra\n",
    "import pandas as pd # data processing, CSV file I/O (e.g. pd.read_csv)\n",
    "\n",
    "# Input data files are available in the read-only \"../input/\" directory\n",
    "# For example, running this (by clicking run or pressing Shift+Enter) will list all files under the input directory\n",
    "\n",
    "import os\n",
    "for dirname, _, filenames in os.walk('/kaggle/input'):\n",
    "    for filename in filenames:\n",
    "        print(os.path.join(dirname, filename))\n",
    "\n",
    "# You can write up to 20GB to the current directory (/kaggle/working/) that gets preserved as output when you create a version using \"Save & Run All\" \n",
    "# You can also write temporary files to /kaggle/temp/, but they won't be saved outside of the current session"
   ]
  },
  {
   "cell_type": "code",
   "execution_count": 2,
   "id": "2e00bbc4",
   "metadata": {
    "execution": {
     "iopub.execute_input": "2023-11-26T08:33:54.960397Z",
     "iopub.status.busy": "2023-11-26T08:33:54.959698Z",
     "iopub.status.idle": "2023-11-26T08:33:55.045645Z",
     "shell.execute_reply": "2023-11-26T08:33:55.044684Z"
    },
    "papermill": {
     "duration": 0.094685,
     "end_time": "2023-11-26T08:33:55.048664",
     "exception": false,
     "start_time": "2023-11-26T08:33:54.953979",
     "status": "completed"
    },
    "tags": []
   },
   "outputs": [
    {
     "data": {
      "text/html": [
       "<div>\n",
       "<style scoped>\n",
       "    .dataframe tbody tr th:only-of-type {\n",
       "        vertical-align: middle;\n",
       "    }\n",
       "\n",
       "    .dataframe tbody tr th {\n",
       "        vertical-align: top;\n",
       "    }\n",
       "\n",
       "    .dataframe thead th {\n",
       "        text-align: right;\n",
       "    }\n",
       "</style>\n",
       "<table border=\"1\" class=\"dataframe\">\n",
       "  <thead>\n",
       "    <tr style=\"text-align: right;\">\n",
       "      <th></th>\n",
       "      <th>name</th>\n",
       "      <th>location</th>\n",
       "      <th>Date</th>\n",
       "      <th>Rating</th>\n",
       "      <th>Review</th>\n",
       "      <th>Image_Links</th>\n",
       "    </tr>\n",
       "  </thead>\n",
       "  <tbody>\n",
       "    <tr>\n",
       "      <th>0</th>\n",
       "      <td>Helen</td>\n",
       "      <td>Wichita Falls, TX</td>\n",
       "      <td>Reviewed Sept. 13, 2023</td>\n",
       "      <td>5.0</td>\n",
       "      <td>Amber and LaDonna at the Starbucks on Southwes...</td>\n",
       "      <td>['No Images']</td>\n",
       "    </tr>\n",
       "    <tr>\n",
       "      <th>1</th>\n",
       "      <td>Courtney</td>\n",
       "      <td>Apopka, FL</td>\n",
       "      <td>Reviewed July 16, 2023</td>\n",
       "      <td>5.0</td>\n",
       "      <td>** at the Starbucks by the fire station on 436...</td>\n",
       "      <td>['No Images']</td>\n",
       "    </tr>\n",
       "    <tr>\n",
       "      <th>2</th>\n",
       "      <td>Daynelle</td>\n",
       "      <td>Cranberry Twp, PA</td>\n",
       "      <td>Reviewed July 5, 2023</td>\n",
       "      <td>5.0</td>\n",
       "      <td>I just wanted to go out of my way to recognize...</td>\n",
       "      <td>['https://media.consumeraffairs.com/files/cach...</td>\n",
       "    </tr>\n",
       "    <tr>\n",
       "      <th>3</th>\n",
       "      <td>Taylor</td>\n",
       "      <td>Seattle, WA</td>\n",
       "      <td>Reviewed May 26, 2023</td>\n",
       "      <td>5.0</td>\n",
       "      <td>Me and my friend were at Starbucks and my card...</td>\n",
       "      <td>['No Images']</td>\n",
       "    </tr>\n",
       "    <tr>\n",
       "      <th>4</th>\n",
       "      <td>Tenessa</td>\n",
       "      <td>Gresham, OR</td>\n",
       "      <td>Reviewed Jan. 22, 2023</td>\n",
       "      <td>5.0</td>\n",
       "      <td>I’m on this kick of drinking 5 cups of warm wa...</td>\n",
       "      <td>['https://media.consumeraffairs.com/files/cach...</td>\n",
       "    </tr>\n",
       "  </tbody>\n",
       "</table>\n",
       "</div>"
      ],
      "text/plain": [
       "       name           location                     Date  Rating  \\\n",
       "0     Helen  Wichita Falls, TX  Reviewed Sept. 13, 2023     5.0   \n",
       "1  Courtney         Apopka, FL   Reviewed July 16, 2023     5.0   \n",
       "2  Daynelle  Cranberry Twp, PA    Reviewed July 5, 2023     5.0   \n",
       "3    Taylor        Seattle, WA    Reviewed May 26, 2023     5.0   \n",
       "4   Tenessa        Gresham, OR   Reviewed Jan. 22, 2023     5.0   \n",
       "\n",
       "                                              Review  \\\n",
       "0  Amber and LaDonna at the Starbucks on Southwes...   \n",
       "1  ** at the Starbucks by the fire station on 436...   \n",
       "2  I just wanted to go out of my way to recognize...   \n",
       "3  Me and my friend were at Starbucks and my card...   \n",
       "4  I’m on this kick of drinking 5 cups of warm wa...   \n",
       "\n",
       "                                         Image_Links  \n",
       "0                                      ['No Images']  \n",
       "1                                      ['No Images']  \n",
       "2  ['https://media.consumeraffairs.com/files/cach...  \n",
       "3                                      ['No Images']  \n",
       "4  ['https://media.consumeraffairs.com/files/cach...  "
      ]
     },
     "execution_count": 2,
     "metadata": {},
     "output_type": "execute_result"
    }
   ],
   "source": [
    "#data loaded into dataframe and first 5 printed\n",
    "\n",
    "input_data_path = '/kaggle/input/starbucks-reviews-dataset/'\n",
    "training_data_file = 'reviews_data.csv'\n",
    "df = pd.read_csv(input_data_path + training_data_file)\n",
    "df.head()"
   ]
  },
  {
   "cell_type": "code",
   "execution_count": 3,
   "id": "35c52221",
   "metadata": {
    "execution": {
     "iopub.execute_input": "2023-11-26T08:33:55.060929Z",
     "iopub.status.busy": "2023-11-26T08:33:55.060563Z",
     "iopub.status.idle": "2023-11-26T08:33:55.070763Z",
     "shell.execute_reply": "2023-11-26T08:33:55.069551Z"
    },
    "papermill": {
     "duration": 0.018475,
     "end_time": "2023-11-26T08:33:55.072753",
     "exception": false,
     "start_time": "2023-11-26T08:33:55.054278",
     "status": "completed"
    },
    "tags": []
   },
   "outputs": [
    {
     "data": {
      "text/plain": [
       "name             0\n",
       "location         0\n",
       "Date             0\n",
       "Rating         145\n",
       "Review           0\n",
       "Image_Links      0\n",
       "dtype: int64"
      ]
     },
     "execution_count": 3,
     "metadata": {},
     "output_type": "execute_result"
    }
   ],
   "source": [
    "df.isnull().sum()"
   ]
  },
  {
   "cell_type": "code",
   "execution_count": 4,
   "id": "fe5c8ba9",
   "metadata": {
    "execution": {
     "iopub.execute_input": "2023-11-26T08:33:55.085476Z",
     "iopub.status.busy": "2023-11-26T08:33:55.084767Z",
     "iopub.status.idle": "2023-11-26T08:33:55.089604Z",
     "shell.execute_reply": "2023-11-26T08:33:55.089018Z"
    },
    "papermill": {
     "duration": 0.013636,
     "end_time": "2023-11-26T08:33:55.091779",
     "exception": false,
     "start_time": "2023-11-26T08:33:55.078143",
     "status": "completed"
    },
    "tags": []
   },
   "outputs": [
    {
     "data": {
      "text/plain": [
       "(850, 6)"
      ]
     },
     "execution_count": 4,
     "metadata": {},
     "output_type": "execute_result"
    }
   ],
   "source": [
    "df.shape"
   ]
  },
  {
   "cell_type": "code",
   "execution_count": 5,
   "id": "de86b9c7",
   "metadata": {
    "execution": {
     "iopub.execute_input": "2023-11-26T08:33:55.106936Z",
     "iopub.status.busy": "2023-11-26T08:33:55.105918Z",
     "iopub.status.idle": "2023-11-26T08:33:55.111718Z",
     "shell.execute_reply": "2023-11-26T08:33:55.110934Z"
    },
    "papermill": {
     "duration": 0.016065,
     "end_time": "2023-11-26T08:33:55.113491",
     "exception": false,
     "start_time": "2023-11-26T08:33:55.097426",
     "status": "completed"
    },
    "tags": []
   },
   "outputs": [
    {
     "data": {
      "text/plain": [
       "['name', 'location', 'Date', 'Rating', 'Review', 'Image_Links']"
      ]
     },
     "execution_count": 5,
     "metadata": {},
     "output_type": "execute_result"
    }
   ],
   "source": [
    "df.columns.tolist()"
   ]
  },
  {
   "cell_type": "code",
   "execution_count": 6,
   "id": "b32a1946",
   "metadata": {
    "execution": {
     "iopub.execute_input": "2023-11-26T08:33:55.126302Z",
     "iopub.status.busy": "2023-11-26T08:33:55.125908Z",
     "iopub.status.idle": "2023-11-26T08:33:55.142240Z",
     "shell.execute_reply": "2023-11-26T08:33:55.140313Z"
    },
    "papermill": {
     "duration": 0.026074,
     "end_time": "2023-11-26T08:33:55.145120",
     "exception": false,
     "start_time": "2023-11-26T08:33:55.119046",
     "status": "completed"
    },
    "tags": []
   },
   "outputs": [
    {
     "data": {
      "text/html": [
       "<div>\n",
       "<style scoped>\n",
       "    .dataframe tbody tr th:only-of-type {\n",
       "        vertical-align: middle;\n",
       "    }\n",
       "\n",
       "    .dataframe tbody tr th {\n",
       "        vertical-align: top;\n",
       "    }\n",
       "\n",
       "    .dataframe thead th {\n",
       "        text-align: right;\n",
       "    }\n",
       "</style>\n",
       "<table border=\"1\" class=\"dataframe\">\n",
       "  <thead>\n",
       "    <tr style=\"text-align: right;\">\n",
       "      <th></th>\n",
       "      <th>name</th>\n",
       "      <th>location</th>\n",
       "      <th>Date</th>\n",
       "      <th>Rating</th>\n",
       "      <th>Review</th>\n",
       "      <th>Image_Links</th>\n",
       "    </tr>\n",
       "  </thead>\n",
       "  <tbody>\n",
       "    <tr>\n",
       "      <th>704</th>\n",
       "      <td>James</td>\n",
       "      <td>Kansas City, MO</td>\n",
       "      <td>Reviewed July 25, 2011</td>\n",
       "      <td>NaN</td>\n",
       "      <td>I just wanted to amend my email the I sent to ...</td>\n",
       "      <td>['No Images']</td>\n",
       "    </tr>\n",
       "    <tr>\n",
       "      <th>705</th>\n",
       "      <td>James</td>\n",
       "      <td>Kansas City, MO</td>\n",
       "      <td>Reviewed July 25, 2011</td>\n",
       "      <td>NaN</td>\n",
       "      <td>Recently, I have gone to your Starbucks at Bar...</td>\n",
       "      <td>['No Images']</td>\n",
       "    </tr>\n",
       "    <tr>\n",
       "      <th>706</th>\n",
       "      <td>Mike</td>\n",
       "      <td>Revere, ma</td>\n",
       "      <td>Reviewed June 26, 2011</td>\n",
       "      <td>NaN</td>\n",
       "      <td>Upon my first visit to this location on my way...</td>\n",
       "      <td>['No Images']</td>\n",
       "    </tr>\n",
       "    <tr>\n",
       "      <th>707</th>\n",
       "      <td>Hughes</td>\n",
       "      <td>Macclesfield, Other</td>\n",
       "      <td>Reviewed Jan. 13, 2011</td>\n",
       "      <td>NaN</td>\n",
       "      <td>Recently, British Royal Marines in Iraq wrote ...</td>\n",
       "      <td>['No Images']</td>\n",
       "    </tr>\n",
       "    <tr>\n",
       "      <th>708</th>\n",
       "      <td>Sherrilynn</td>\n",
       "      <td>Jenison, MI</td>\n",
       "      <td>Reviewed Jan. 4, 2011</td>\n",
       "      <td>NaN</td>\n",
       "      <td>On the way to catch our plane, we got a medium...</td>\n",
       "      <td>['No Images']</td>\n",
       "    </tr>\n",
       "  </tbody>\n",
       "</table>\n",
       "</div>"
      ],
      "text/plain": [
       "           name             location                    Date  Rating  \\\n",
       "704       James      Kansas City, MO  Reviewed July 25, 2011     NaN   \n",
       "705       James      Kansas City, MO  Reviewed July 25, 2011     NaN   \n",
       "706        Mike           Revere, ma  Reviewed June 26, 2011     NaN   \n",
       "707      Hughes  Macclesfield, Other  Reviewed Jan. 13, 2011     NaN   \n",
       "708  Sherrilynn          Jenison, MI   Reviewed Jan. 4, 2011     NaN   \n",
       "\n",
       "                                                Review    Image_Links  \n",
       "704  I just wanted to amend my email the I sent to ...  ['No Images']  \n",
       "705  Recently, I have gone to your Starbucks at Bar...  ['No Images']  \n",
       "706  Upon my first visit to this location on my way...  ['No Images']  \n",
       "707  Recently, British Royal Marines in Iraq wrote ...  ['No Images']  \n",
       "708  On the way to catch our plane, we got a medium...  ['No Images']  "
      ]
     },
     "execution_count": 6,
     "metadata": {},
     "output_type": "execute_result"
    }
   ],
   "source": [
    "X_target = df[df['Rating'].isnull()]\n",
    "X_target.head()"
   ]
  },
  {
   "cell_type": "code",
   "execution_count": 7,
   "id": "56c5feac",
   "metadata": {
    "execution": {
     "iopub.execute_input": "2023-11-26T08:33:55.158467Z",
     "iopub.status.busy": "2023-11-26T08:33:55.157841Z",
     "iopub.status.idle": "2023-11-26T08:33:55.164261Z",
     "shell.execute_reply": "2023-11-26T08:33:55.162693Z"
    },
    "papermill": {
     "duration": 0.015439,
     "end_time": "2023-11-26T08:33:55.166440",
     "exception": false,
     "start_time": "2023-11-26T08:33:55.151001",
     "status": "completed"
    },
    "tags": []
   },
   "outputs": [
    {
     "data": {
      "text/plain": [
       "(145, 6)"
      ]
     },
     "execution_count": 7,
     "metadata": {},
     "output_type": "execute_result"
    }
   ],
   "source": [
    "X_target.shape"
   ]
  },
  {
   "cell_type": "code",
   "execution_count": 8,
   "id": "b04dd5a1",
   "metadata": {
    "execution": {
     "iopub.execute_input": "2023-11-26T08:33:55.179476Z",
     "iopub.status.busy": "2023-11-26T08:33:55.179149Z",
     "iopub.status.idle": "2023-11-26T08:33:55.190676Z",
     "shell.execute_reply": "2023-11-26T08:33:55.189708Z"
    },
    "papermill": {
     "duration": 0.020091,
     "end_time": "2023-11-26T08:33:55.192478",
     "exception": false,
     "start_time": "2023-11-26T08:33:55.172387",
     "status": "completed"
    },
    "tags": []
   },
   "outputs": [
    {
     "data": {
      "text/plain": [
       "name           0\n",
       "location       0\n",
       "Date           0\n",
       "Rating         0\n",
       "Review         0\n",
       "Image_Links    0\n",
       "dtype: int64"
      ]
     },
     "execution_count": 8,
     "metadata": {},
     "output_type": "execute_result"
    }
   ],
   "source": [
    "# create a deep copy of the data to avoid comprimising the integrity of the original data\n",
    "# the deep copy can be safely manipulated and altered and if a new copy needs to be made\n",
    "# the original is still intact.\n",
    "\n",
    "df_copy = df.copy(deep=True)\n",
    "df_copy.dropna(inplace=True)\n",
    "df_copy.isnull().sum()"
   ]
  },
  {
   "cell_type": "code",
   "execution_count": 9,
   "id": "ecd61b2d",
   "metadata": {
    "execution": {
     "iopub.execute_input": "2023-11-26T08:33:55.204674Z",
     "iopub.status.busy": "2023-11-26T08:33:55.204363Z",
     "iopub.status.idle": "2023-11-26T08:33:55.210711Z",
     "shell.execute_reply": "2023-11-26T08:33:55.209500Z"
    },
    "papermill": {
     "duration": 0.014539,
     "end_time": "2023-11-26T08:33:55.212646",
     "exception": false,
     "start_time": "2023-11-26T08:33:55.198107",
     "status": "completed"
    },
    "tags": []
   },
   "outputs": [
    {
     "data": {
      "text/plain": [
       "(705, 6)"
      ]
     },
     "execution_count": 9,
     "metadata": {},
     "output_type": "execute_result"
    }
   ],
   "source": [
    "df_copy.shape"
   ]
  },
  {
   "cell_type": "code",
   "execution_count": 10,
   "id": "689d8a81",
   "metadata": {
    "execution": {
     "iopub.execute_input": "2023-11-26T08:33:55.225594Z",
     "iopub.status.busy": "2023-11-26T08:33:55.224495Z",
     "iopub.status.idle": "2023-11-26T08:33:55.243139Z",
     "shell.execute_reply": "2023-11-26T08:33:55.241964Z"
    },
    "papermill": {
     "duration": 0.027333,
     "end_time": "2023-11-26T08:33:55.245123",
     "exception": false,
     "start_time": "2023-11-26T08:33:55.217790",
     "status": "completed"
    },
    "tags": []
   },
   "outputs": [
    {
     "data": {
      "text/html": [
       "<div>\n",
       "<style scoped>\n",
       "    .dataframe tbody tr th:only-of-type {\n",
       "        vertical-align: middle;\n",
       "    }\n",
       "\n",
       "    .dataframe tbody tr th {\n",
       "        vertical-align: top;\n",
       "    }\n",
       "\n",
       "    .dataframe thead th {\n",
       "        text-align: right;\n",
       "    }\n",
       "</style>\n",
       "<table border=\"1\" class=\"dataframe\">\n",
       "  <thead>\n",
       "    <tr style=\"text-align: right;\">\n",
       "      <th></th>\n",
       "      <th>Rating</th>\n",
       "      <th>Review</th>\n",
       "    </tr>\n",
       "  </thead>\n",
       "  <tbody>\n",
       "    <tr>\n",
       "      <th>0</th>\n",
       "      <td>5.0</td>\n",
       "      <td>Amber and LaDonna at the Starbucks on Southwes...</td>\n",
       "    </tr>\n",
       "    <tr>\n",
       "      <th>1</th>\n",
       "      <td>5.0</td>\n",
       "      <td>** at the Starbucks by the fire station on 436...</td>\n",
       "    </tr>\n",
       "    <tr>\n",
       "      <th>2</th>\n",
       "      <td>5.0</td>\n",
       "      <td>I just wanted to go out of my way to recognize...</td>\n",
       "    </tr>\n",
       "    <tr>\n",
       "      <th>3</th>\n",
       "      <td>5.0</td>\n",
       "      <td>Me and my friend were at Starbucks and my card...</td>\n",
       "    </tr>\n",
       "    <tr>\n",
       "      <th>4</th>\n",
       "      <td>5.0</td>\n",
       "      <td>I’m on this kick of drinking 5 cups of warm wa...</td>\n",
       "    </tr>\n",
       "  </tbody>\n",
       "</table>\n",
       "</div>"
      ],
      "text/plain": [
       "   Rating                                             Review\n",
       "0     5.0  Amber and LaDonna at the Starbucks on Southwes...\n",
       "1     5.0  ** at the Starbucks by the fire station on 436...\n",
       "2     5.0  I just wanted to go out of my way to recognize...\n",
       "3     5.0  Me and my friend were at Starbucks and my card...\n",
       "4     5.0  I’m on this kick of drinking 5 cups of warm wa..."
      ]
     },
     "execution_count": 10,
     "metadata": {},
     "output_type": "execute_result"
    }
   ],
   "source": [
    "df_copy.drop(['name', 'location', 'Date', 'Image_Links'], axis=1, inplace=True)\n",
    "df_copy.head()"
   ]
  },
  {
   "cell_type": "code",
   "execution_count": 11,
   "id": "9666cfe5",
   "metadata": {
    "execution": {
     "iopub.execute_input": "2023-11-26T08:33:55.258087Z",
     "iopub.status.busy": "2023-11-26T08:33:55.257643Z",
     "iopub.status.idle": "2023-11-26T08:33:55.273369Z",
     "shell.execute_reply": "2023-11-26T08:33:55.272318Z"
    },
    "papermill": {
     "duration": 0.02477,
     "end_time": "2023-11-26T08:33:55.275600",
     "exception": false,
     "start_time": "2023-11-26T08:33:55.250830",
     "status": "completed"
    },
    "tags": []
   },
   "outputs": [
    {
     "data": {
      "text/html": [
       "<div>\n",
       "<style scoped>\n",
       "    .dataframe tbody tr th:only-of-type {\n",
       "        vertical-align: middle;\n",
       "    }\n",
       "\n",
       "    .dataframe tbody tr th {\n",
       "        vertical-align: top;\n",
       "    }\n",
       "\n",
       "    .dataframe thead th {\n",
       "        text-align: right;\n",
       "    }\n",
       "</style>\n",
       "<table border=\"1\" class=\"dataframe\">\n",
       "  <thead>\n",
       "    <tr style=\"text-align: right;\">\n",
       "      <th></th>\n",
       "      <th>Rating</th>\n",
       "      <th>Review</th>\n",
       "      <th>label</th>\n",
       "    </tr>\n",
       "  </thead>\n",
       "  <tbody>\n",
       "    <tr>\n",
       "      <th>294</th>\n",
       "      <td>1.0</td>\n",
       "      <td>The stores can make their own rules which cont...</td>\n",
       "      <td>0</td>\n",
       "    </tr>\n",
       "    <tr>\n",
       "      <th>321</th>\n",
       "      <td>4.0</td>\n",
       "      <td>The only one piece of advice for Starbucks, ap...</td>\n",
       "      <td>1</td>\n",
       "    </tr>\n",
       "    <tr>\n",
       "      <th>71</th>\n",
       "      <td>4.0</td>\n",
       "      <td>Most Starbucks charge $2.95 for grande Pike Pl...</td>\n",
       "      <td>1</td>\n",
       "    </tr>\n",
       "    <tr>\n",
       "      <th>630</th>\n",
       "      <td>2.0</td>\n",
       "      <td>The coffee was very old and had no flavor. It'...</td>\n",
       "      <td>0</td>\n",
       "    </tr>\n",
       "    <tr>\n",
       "      <th>562</th>\n",
       "      <td>1.0</td>\n",
       "      <td>I was disappointed after purchasing the Starbu...</td>\n",
       "      <td>0</td>\n",
       "    </tr>\n",
       "  </tbody>\n",
       "</table>\n",
       "</div>"
      ],
      "text/plain": [
       "     Rating                                             Review  label\n",
       "294     1.0  The stores can make their own rules which cont...      0\n",
       "321     4.0  The only one piece of advice for Starbucks, ap...      1\n",
       "71      4.0  Most Starbucks charge $2.95 for grande Pike Pl...      1\n",
       "630     2.0  The coffee was very old and had no flavor. It'...      0\n",
       "562     1.0  I was disappointed after purchasing the Starbu...      0"
      ]
     },
     "execution_count": 11,
     "metadata": {},
     "output_type": "execute_result"
    }
   ],
   "source": [
    "df_copy['label'] = np.where(df_copy['Rating'] > 3, 1, 0) #Assign 1 when rating 3 or above else assign 0.\n",
    "df_copy.sample(5)"
   ]
  },
  {
   "cell_type": "markdown",
   "id": "ac7303d6",
   "metadata": {
    "papermill": {
     "duration": 0.005859,
     "end_time": "2023-11-26T08:33:55.287373",
     "exception": false,
     "start_time": "2023-11-26T08:33:55.281514",
     "status": "completed"
    },
    "tags": []
   },
   "source": [
    "Now that the data has been loaded into a deep copy and the null data has been copied and removed the baseline can be set."
   ]
  },
  {
   "cell_type": "code",
   "execution_count": 12,
   "id": "f7cf6779",
   "metadata": {
    "execution": {
     "iopub.execute_input": "2023-11-26T08:33:55.302024Z",
     "iopub.status.busy": "2023-11-26T08:33:55.300478Z",
     "iopub.status.idle": "2023-11-26T08:33:56.485625Z",
     "shell.execute_reply": "2023-11-26T08:33:56.484273Z"
    },
    "papermill": {
     "duration": 1.195071,
     "end_time": "2023-11-26T08:33:56.488099",
     "exception": false,
     "start_time": "2023-11-26T08:33:55.293028",
     "status": "completed"
    },
    "tags": []
   },
   "outputs": [],
   "source": [
    "# split data into train and validation sets: df_train and df_val\n",
    "from sklearn.model_selection import train_test_split\n",
    "\n",
    "X = df_copy['Review'].copy()\n",
    "y = df_copy['label'].copy()\n",
    "\n",
    "X_train_raw, X_val_raw, y_train, y_val = train_test_split(X, y, test_size=0.20, random_state=42)"
   ]
  },
  {
   "cell_type": "code",
   "execution_count": 13,
   "id": "11449819",
   "metadata": {
    "execution": {
     "iopub.execute_input": "2023-11-26T08:33:56.501751Z",
     "iopub.status.busy": "2023-11-26T08:33:56.501342Z",
     "iopub.status.idle": "2023-11-26T08:33:56.651547Z",
     "shell.execute_reply": "2023-11-26T08:33:56.650326Z"
    },
    "papermill": {
     "duration": 0.159401,
     "end_time": "2023-11-26T08:33:56.653533",
     "exception": false,
     "start_time": "2023-11-26T08:33:56.494132",
     "status": "completed"
    },
    "tags": []
   },
   "outputs": [
    {
     "name": "stdout",
     "output_type": "stream",
     "text": [
      "X_train.shape = (564, 4908)\n"
     ]
    },
    {
     "data": {
      "text/plain": [
       "numpy.ndarray"
      ]
     },
     "execution_count": 13,
     "metadata": {},
     "output_type": "execute_result"
    }
   ],
   "source": [
    "from sklearn.feature_extraction.text import TfidfVectorizer\n",
    "#import seaborn as sns\n",
    "\n",
    "tfidf_vectorizer = TfidfVectorizer()\n",
    "X_train = tfidf_vectorizer.fit_transform(X_train_raw).toarray()\n",
    "\n",
    "# an alternative is to use term frequency:\n",
    "#from sklearn.feature_extraction.text import CountVectorizer\n",
    "#one_hot_vectorizer = CountVectorizer(binary=True)\n",
    "#X_train = one_hot_vectorizer.fit_transform(X_train_raw))\n",
    "\n",
    "print(f\"X_train.shape = {X_train.shape}\")\n",
    "type(X_train)"
   ]
  },
  {
   "cell_type": "code",
   "execution_count": 14,
   "id": "e7ebfb0e",
   "metadata": {
    "execution": {
     "iopub.execute_input": "2023-11-26T08:33:56.667932Z",
     "iopub.status.busy": "2023-11-26T08:33:56.666802Z",
     "iopub.status.idle": "2023-11-26T08:33:57.597478Z",
     "shell.execute_reply": "2023-11-26T08:33:57.596219Z"
    },
    "papermill": {
     "duration": 0.940253,
     "end_time": "2023-11-26T08:33:57.599982",
     "exception": false,
     "start_time": "2023-11-26T08:33:56.659729",
     "status": "completed"
    },
    "tags": []
   },
   "outputs": [
    {
     "name": "stdout",
     "output_type": "stream",
     "text": [
      "accuracy (on y_train): 1.0000\n"
     ]
    },
    {
     "data": {
      "image/png": "[encoded data removed]",
      "text/plain": [
       "<Figure size 640x480 with 2 Axes>"
      ]
     },
     "metadata": {},
     "output_type": "display_data"
    }
   ],
   "source": [
    "from sklearn.ensemble import RandomForestClassifier\n",
    "from sklearn.metrics import confusion_matrix, ConfusionMatrixDisplay, accuracy_score\n",
    "\n",
    "model = RandomForestClassifier(n_estimators=100)\n",
    "model = model.fit(X_train, y_train)\n",
    "\n",
    "predictions_train = model.predict(X_train)\n",
    "\n",
    "disp = ConfusionMatrixDisplay(confusion_matrix(y_train, predictions_train), display_labels=['0', '1'])\n",
    "disp.plot()\n",
    "print(f\"accuracy (on y_train): {accuracy_score(y_train, predictions_train):.4f}\")"
   ]
  },
  {
   "cell_type": "markdown",
   "id": "cf512c35",
   "metadata": {
    "papermill": {
     "duration": 0.005962,
     "end_time": "2023-11-26T08:33:57.612417",
     "exception": false,
     "start_time": "2023-11-26T08:33:57.606455",
     "status": "completed"
    },
    "tags": []
   },
   "source": [
    "# A SURPRISE!\n",
    "\n",
    "The model as a baseline has an accuracy of 1.0! Possible explenations are that the dataset is either too small, or that the overwhelming majority of negative reviews as described in project part 1 have trained the model to recognize them very well, causing anything outside of that to an assumed possitive review. Next HistGradientBoostingClassifier will be used and results compared. Because the purpose of this project is to test the effects of hyperparameters and their effects on the model a new method may need to be introduced to lower the accuracy of the model."
   ]
  },
  {
   "cell_type": "code",
   "execution_count": 15,
   "id": "f99ef28d",
   "metadata": {
    "execution": {
     "iopub.execute_input": "2023-11-26T08:33:57.627462Z",
     "iopub.status.busy": "2023-11-26T08:33:57.626638Z",
     "iopub.status.idle": "2023-11-26T08:34:04.602533Z",
     "shell.execute_reply": "2023-11-26T08:34:04.601608Z"
    },
    "papermill": {
     "duration": 6.98561,
     "end_time": "2023-11-26T08:34:04.604189",
     "exception": false,
     "start_time": "2023-11-26T08:33:57.618579",
     "status": "completed"
    },
    "tags": []
   },
   "outputs": [
    {
     "name": "stdout",
     "output_type": "stream",
     "text": [
      "accuracy (on y_train): 1.0000\n"
     ]
    },
    {
     "data": {
      "image/png": "[encoded data removed]",
      "text/plain": [
       "<Figure size 640x480 with 2 Axes>"
      ]
     },
     "metadata": {},
     "output_type": "display_data"
    }
   ],
   "source": [
    "\n",
    "\n",
    "from sklearn.ensemble import HistGradientBoostingClassifier\n",
    "\n",
    "#model = ExtraTreesClassifier(n_estimators=160)\n",
    "model2 = HistGradientBoostingClassifier(max_leaf_nodes = 30)\n",
    "model2 = model2.fit(X_train, y_train)\n",
    "\n",
    "predictions_train = model2.predict(X_train)\n",
    "\n",
    "disp = ConfusionMatrixDisplay(confusion_matrix(y_train, predictions_train), display_labels=['0', '1'])\n",
    "disp.plot()\n",
    "print(f\"accuracy (on y_train): {accuracy_score(y_train, predictions_train):.4f}\")\n",
    "\n"
   ]
  },
  {
   "cell_type": "markdown",
   "id": "4c6cea38",
   "metadata": {
    "papermill": {
     "duration": 0.006035,
     "end_time": "2023-11-26T08:34:04.616994",
     "exception": false,
     "start_time": "2023-11-26T08:34:04.610959",
     "status": "completed"
    },
    "tags": []
   },
   "source": [
    "# A SURPRISE! Again...\n",
    "\n",
    "The second model also has an accuracy of 1.0! This is a problem and must be addressed."
   ]
  }
 ],
 "metadata": {
  "kaggle": {
   "accelerator": "none",
   "dataSources": [
    {
     "datasetId": 3741616,
     "sourceId": 6476914,
     "sourceType": "datasetVersion"
    }
   ],
   "dockerImageVersionId": 30587,
   "isGpuEnabled": false,
   "isInternetEnabled": true,
   "language": "python",
   "sourceType": "notebook"
  },
  "kernelspec": {
   "display_name": "Python 3",
   "language": "python",
   "name": "python3"
  },
  "language_info": {
   "codemirror_mode": {
    "name": "ipython",
    "version": 3
   },
   "file_extension": ".py",
   "mimetype": "text/x-python",
   "name": "python",
   "nbconvert_exporter": "python",
   "pygments_lexer": "ipython3",
   "version": "3.10.12"
  },
  "papermill": {
   "default_parameters": {},
   "duration": 13.154891,
   "end_time": "2023-11-26T08:34:05.145394",
   "environment_variables": {},
   "exception": null,
   "input_path": "__notebook__.ipynb",
   "output_path": "__notebook__.ipynb",
   "parameters": {},
   "start_time": "2023-11-26T08:33:51.990503",
   "version": "2.4.0"
  }
 },
 "nbformat": 4,
 "nbformat_minor": 5
}

{
 "cells": [
  {
   "cell_type": "markdown",
   "id": "a4ef1ffe",
   "metadata": {
    "papermill": {
     "duration": 0.006497,
     "end_time": "2023-11-27T04:34:07.427152",
     "exception": false,
     "start_time": "2023-11-27T04:34:07.420655",
     "status": "completed"
    },
    "tags": []
   },
   "source": [
    "# Project Part 2\n",
    "\n",
    "[![Kaggle](https://kaggle.com/static/images/open-in-kaggle.svg)](https://kaggle.com/kernels/welcome?src=https://github.com/rjbeer/CS39AA-Project/blob/main/Project%20Part%201.ipynb)\n",
    "\n",
    "# update kaggle link to accurately reflect part 2"
   ]
  },
  {
   "cell_type": "markdown",
   "id": "1a09791f",
   "metadata": {
    "papermill": {
     "duration": 0.004497,
     "end_time": "2023-11-27T04:34:07.436439",
     "exception": false,
     "start_time": "2023-11-27T04:34:07.431942",
     "status": "completed"
    },
    "tags": []
   },
   "source": [
    "# Setting a Baseline\n",
    "\n",
    "As mention in part 1 of the project a baseline model will be created for 2 machine learning models. First random forest will be used and a baseline will be created, then the same will be done for HistGradientBoostingClassifier. Before this can be done however, previous steps from the notebook Project Part 1 must be redone so that we can begin."
   ]
  },
  {
   "cell_type": "code",
   "execution_count": 1,
   "id": "3aa47d5a",
   "metadata": {
    "_cell_guid": "b1076dfc-b9ad-4769-8c92-a6c4dae69d19",
    "_uuid": "8f2839f25d086af736a60e9eeb907d3b93b6e0e5",
    "execution": {
     "iopub.execute_input": "2023-11-27T04:34:07.447299Z",
     "iopub.status.busy": "2023-11-27T04:34:07.447018Z",
     "iopub.status.idle": "2023-11-27T04:34:07.719275Z",
     "shell.execute_reply": "2023-11-27T04:34:07.718322Z"
    },
    "papermill": {
     "duration": 0.279796,
     "end_time": "2023-11-27T04:34:07.720956",
     "exception": false,
     "start_time": "2023-11-27T04:34:07.441160",
     "status": "completed"
    },
    "tags": []
   },
   "outputs": [
    {
     "name": "stdout",
     "output_type": "stream",
     "text": [
      "/kaggle/input/starbucks-reviews-dataset/reviews_data.csv\n"
     ]
    }
   ],
   "source": [
    "# This Python 3 environment comes with many helpful analytics libraries installed\n",
    "# It is defined by the kaggle/python Docker image: https://github.com/kaggle/docker-python\n",
    "# For example, here's several helpful packages to load\n",
    "\n",
    "import numpy as np # linear algebra\n",
    "import pandas as pd # data processing, CSV file I/O (e.g. pd.read_csv)\n",
    "\n",
    "# Input data files are available in the read-only \"../input/\" directory\n",
    "# For example, running this (by clicking run or pressing Shift+Enter) will list all files under the input directory\n",
    "\n",
    "import os\n",
    "for dirname, _, filenames in os.walk('/kaggle/input'):\n",
    "    for filename in filenames:\n",
    "        print(os.path.join(dirname, filename))\n",
    "\n",
    "# You can write up to 20GB to the current directory (/kaggle/working/) that gets preserved as output when you create a version using \"Save & Run All\" \n",
    "# You can also write temporary files to /kaggle/temp/, but they won't be saved outside of the current session"
   ]
  },
  {
   "cell_type": "code",
   "execution_count": 2,
   "id": "7adc270b",
   "metadata": {
    "execution": {
     "iopub.execute_input": "2023-11-27T04:34:07.732060Z",
     "iopub.status.busy": "2023-11-27T04:34:07.731746Z",
     "iopub.status.idle": "2023-11-27T04:34:07.784989Z",
     "shell.execute_reply": "2023-11-27T04:34:07.784186Z"
    },
    "papermill": {
     "duration": 0.060495,
     "end_time": "2023-11-27T04:34:07.786608",
     "exception": false,
     "start_time": "2023-11-27T04:34:07.726113",
     "status": "completed"
    },
    "tags": []
   },
   "outputs": [
    {
     "data": {
      "text/html": [
       "<div>\n",
       "<style scoped>\n",
       "    .dataframe tbody tr th:only-of-type {\n",
       "        vertical-align: middle;\n",
       "    }\n",
       "\n",
       "    .dataframe tbody tr th {\n",
       "        vertical-align: top;\n",
       "    }\n",
       "\n",
       "    .dataframe thead th {\n",
       "        text-align: right;\n",
       "    }\n",
       "</style>\n",
       "<table border=\"1\" class=\"dataframe\">\n",
       "  <thead>\n",
       "    <tr style=\"text-align: right;\">\n",
       "      <th></th>\n",
       "      <th>name</th>\n",
       "      <th>location</th>\n",
       "      <th>Date</th>\n",
       "      <th>Rating</th>\n",
       "      <th>Review</th>\n",
       "      <th>Image_Links</th>\n",
       "    </tr>\n",
       "  </thead>\n",
       "  <tbody>\n",
       "    <tr>\n",
       "      <th>0</th>\n",
       "      <td>Helen</td>\n",
       "      <td>Wichita Falls, TX</td>\n",
       "      <td>Reviewed Sept. 13, 2023</td>\n",
       "      <td>5.0</td>\n",
       "      <td>Amber and LaDonna at the Starbucks on Southwes...</td>\n",
       "      <td>['No Images']</td>\n",
       "    </tr>\n",
       "    <tr>\n",
       "      <th>1</th>\n",
       "      <td>Courtney</td>\n",
       "      <td>Apopka, FL</td>\n",
       "      <td>Reviewed July 16, 2023</td>\n",
       "      <td>5.0</td>\n",
       "      <td>** at the Starbucks by the fire station on 436...</td>\n",
       "      <td>['No Images']</td>\n",
       "    </tr>\n",
       "    <tr>\n",
       "      <th>2</th>\n",
       "      <td>Daynelle</td>\n",
       "      <td>Cranberry Twp, PA</td>\n",
       "      <td>Reviewed July 5, 2023</td>\n",
       "      <td>5.0</td>\n",
       "      <td>I just wanted to go out of my way to recognize...</td>\n",
       "      <td>['https://media.consumeraffairs.com/files/cach...</td>\n",
       "    </tr>\n",
       "    <tr>\n",
       "      <th>3</th>\n",
       "      <td>Taylor</td>\n",
       "      <td>Seattle, WA</td>\n",
       "      <td>Reviewed May 26, 2023</td>\n",
       "      <td>5.0</td>\n",
       "      <td>Me and my friend were at Starbucks and my card...</td>\n",
       "      <td>['No Images']</td>\n",
       "    </tr>\n",
       "    <tr>\n",
       "      <th>4</th>\n",
       "      <td>Tenessa</td>\n",
       "      <td>Gresham, OR</td>\n",
       "      <td>Reviewed Jan. 22, 2023</td>\n",
       "      <td>5.0</td>\n",
       "      <td>I’m on this kick of drinking 5 cups of warm wa...</td>\n",
       "      <td>['https://media.consumeraffairs.com/files/cach...</td>\n",
       "    </tr>\n",
       "  </tbody>\n",
       "</table>\n",
       "</div>"
      ],
      "text/plain": [
       "       name           location                     Date  Rating  \\\n",
       "0     Helen  Wichita Falls, TX  Reviewed Sept. 13, 2023     5.0   \n",
       "1  Courtney         Apopka, FL   Reviewed July 16, 2023     5.0   \n",
       "2  Daynelle  Cranberry Twp, PA    Reviewed July 5, 2023     5.0   \n",
       "3    Taylor        Seattle, WA    Reviewed May 26, 2023     5.0   \n",
       "4   Tenessa        Gresham, OR   Reviewed Jan. 22, 2023     5.0   \n",
       "\n",
       "                                              Review  \\\n",
       "0  Amber and LaDonna at the Starbucks on Southwes...   \n",
       "1  ** at the Starbucks by the fire station on 436...   \n",
       "2  I just wanted to go out of my way to recognize...   \n",
       "3  Me and my friend were at Starbucks and my card...   \n",
       "4  I’m on this kick of drinking 5 cups of warm wa...   \n",
       "\n",
       "                                         Image_Links  \n",
       "0                                      ['No Images']  \n",
       "1                                      ['No Images']  \n",
       "2  ['https://media.consumeraffairs.com/files/cach...  \n",
       "3                                      ['No Images']  \n",
       "4  ['https://media.consumeraffairs.com/files/cach...  "
      ]
     },
     "execution_count": 2,
     "metadata": {},
     "output_type": "execute_result"
    }
   ],
   "source": [
    "#data loaded into dataframe and first 5 printed\n",
    "\n",
    "input_data_path = '/kaggle/input/starbucks-reviews-dataset/'\n",
    "training_data_file = 'reviews_data.csv'\n",
    "df = pd.read_csv(input_data_path + training_data_file)\n",
    "df.head()"
   ]
  },
  {
   "cell_type": "code",
   "execution_count": 3,
   "id": "ed71d02a",
   "metadata": {
    "execution": {
     "iopub.execute_input": "2023-11-27T04:34:07.798407Z",
     "iopub.status.busy": "2023-11-27T04:34:07.798118Z",
     "iopub.status.idle": "2023-11-27T04:34:07.804817Z",
     "shell.execute_reply": "2023-11-27T04:34:07.804080Z"
    },
    "papermill": {
     "duration": 0.01455,
     "end_time": "2023-11-27T04:34:07.806492",
     "exception": false,
     "start_time": "2023-11-27T04:34:07.791942",
     "status": "completed"
    },
    "tags": []
   },
   "outputs": [
    {
     "data": {
      "text/plain": [
       "name             0\n",
       "location         0\n",
       "Date             0\n",
       "Rating         145\n",
       "Review           0\n",
       "Image_Links      0\n",
       "dtype: int64"
      ]
     },
     "execution_count": 3,
     "metadata": {},
     "output_type": "execute_result"
    }
   ],
   "source": [
    "df.isnull().sum()"
   ]
  },
  {
   "cell_type": "code",
   "execution_count": 4,
   "id": "3a9051c6",
   "metadata": {
    "execution": {
     "iopub.execute_input": "2023-11-27T04:34:07.817614Z",
     "iopub.status.busy": "2023-11-27T04:34:07.817402Z",
     "iopub.status.idle": "2023-11-27T04:34:07.821444Z",
     "shell.execute_reply": "2023-11-27T04:34:07.820807Z"
    },
    "papermill": {
     "duration": 0.011368,
     "end_time": "2023-11-27T04:34:07.823024",
     "exception": false,
     "start_time": "2023-11-27T04:34:07.811656",
     "status": "completed"
    },
    "tags": []
   },
   "outputs": [
    {
     "data": {
      "text/plain": [
       "(850, 6)"
      ]
     },
     "execution_count": 4,
     "metadata": {},
     "output_type": "execute_result"
    }
   ],
   "source": [
    "df.shape"
   ]
  },
  {
   "cell_type": "code",
   "execution_count": 5,
   "id": "52f6743a",
   "metadata": {
    "execution": {
     "iopub.execute_input": "2023-11-27T04:34:07.834388Z",
     "iopub.status.busy": "2023-11-27T04:34:07.834054Z",
     "iopub.status.idle": "2023-11-27T04:34:07.838905Z",
     "shell.execute_reply": "2023-11-27T04:34:07.838121Z"
    },
    "papermill": {
     "duration": 0.01222,
     "end_time": "2023-11-27T04:34:07.840492",
     "exception": false,
     "start_time": "2023-11-27T04:34:07.828272",
     "status": "completed"
    },
    "tags": []
   },
   "outputs": [
    {
     "data": {
      "text/plain": [
       "['name', 'location', 'Date', 'Rating', 'Review', 'Image_Links']"
      ]
     },
     "execution_count": 5,
     "metadata": {},
     "output_type": "execute_result"
    }
   ],
   "source": [
    "df.columns.tolist()"
   ]
  },
  {
   "cell_type": "code",
   "execution_count": 6,
   "id": "a7f1fec2",
   "metadata": {
    "execution": {
     "iopub.execute_input": "2023-11-27T04:34:07.852431Z",
     "iopub.status.busy": "2023-11-27T04:34:07.852029Z",
     "iopub.status.idle": "2023-11-27T04:34:07.863672Z",
     "shell.execute_reply": "2023-11-27T04:34:07.862950Z"
    },
    "papermill": {
     "duration": 0.019382,
     "end_time": "2023-11-27T04:34:07.865214",
     "exception": false,
     "start_time": "2023-11-27T04:34:07.845832",
     "status": "completed"
    },
    "tags": []
   },
   "outputs": [
    {
     "data": {
      "text/html": [
       "<div>\n",
       "<style scoped>\n",
       "    .dataframe tbody tr th:only-of-type {\n",
       "        vertical-align: middle;\n",
       "    }\n",
       "\n",
       "    .dataframe tbody tr th {\n",
       "        vertical-align: top;\n",
       "    }\n",
       "\n",
       "    .dataframe thead th {\n",
       "        text-align: right;\n",
       "    }\n",
       "</style>\n",
       "<table border=\"1\" class=\"dataframe\">\n",
       "  <thead>\n",
       "    <tr style=\"text-align: right;\">\n",
       "      <th></th>\n",
       "      <th>name</th>\n",
       "      <th>location</th>\n",
       "      <th>Date</th>\n",
       "      <th>Rating</th>\n",
       "      <th>Review</th>\n",
       "      <th>Image_Links</th>\n",
       "    </tr>\n",
       "  </thead>\n",
       "  <tbody>\n",
       "    <tr>\n",
       "      <th>704</th>\n",
       "      <td>James</td>\n",
       "      <td>Kansas City, MO</td>\n",
       "      <td>Reviewed July 25, 2011</td>\n",
       "      <td>NaN</td>\n",
       "      <td>I just wanted to amend my email the I sent to ...</td>\n",
       "      <td>['No Images']</td>\n",
       "    </tr>\n",
       "    <tr>\n",
       "      <th>705</th>\n",
       "      <td>James</td>\n",
       "      <td>Kansas City, MO</td>\n",
       "      <td>Reviewed July 25, 2011</td>\n",
       "      <td>NaN</td>\n",
       "      <td>Recently, I have gone to your Starbucks at Bar...</td>\n",
       "      <td>['No Images']</td>\n",
       "    </tr>\n",
       "    <tr>\n",
       "      <th>706</th>\n",
       "      <td>Mike</td>\n",
       "      <td>Revere, ma</td>\n",
       "      <td>Reviewed June 26, 2011</td>\n",
       "      <td>NaN</td>\n",
       "      <td>Upon my first visit to this location on my way...</td>\n",
       "      <td>['No Images']</td>\n",
       "    </tr>\n",
       "    <tr>\n",
       "      <th>707</th>\n",
       "      <td>Hughes</td>\n",
       "      <td>Macclesfield, Other</td>\n",
       "      <td>Reviewed Jan. 13, 2011</td>\n",
       "      <td>NaN</td>\n",
       "      <td>Recently, British Royal Marines in Iraq wrote ...</td>\n",
       "      <td>['No Images']</td>\n",
       "    </tr>\n",
       "    <tr>\n",
       "      <th>708</th>\n",
       "      <td>Sherrilynn</td>\n",
       "      <td>Jenison, MI</td>\n",
       "      <td>Reviewed Jan. 4, 2011</td>\n",
       "      <td>NaN</td>\n",
       "      <td>On the way to catch our plane, we got a medium...</td>\n",
       "      <td>['No Images']</td>\n",
       "    </tr>\n",
       "  </tbody>\n",
       "</table>\n",
       "</div>"
      ],
      "text/plain": [
       "           name             location                    Date  Rating  \\\n",
       "704       James      Kansas City, MO  Reviewed July 25, 2011     NaN   \n",
       "705       James      Kansas City, MO  Reviewed July 25, 2011     NaN   \n",
       "706        Mike           Revere, ma  Reviewed June 26, 2011     NaN   \n",
       "707      Hughes  Macclesfield, Other  Reviewed Jan. 13, 2011     NaN   \n",
       "708  Sherrilynn          Jenison, MI   Reviewed Jan. 4, 2011     NaN   \n",
       "\n",
       "                                                Review    Image_Links  \n",
       "704  I just wanted to amend my email the I sent to ...  ['No Images']  \n",
       "705  Recently, I have gone to your Starbucks at Bar...  ['No Images']  \n",
       "706  Upon my first visit to this location on my way...  ['No Images']  \n",
       "707  Recently, British Royal Marines in Iraq wrote ...  ['No Images']  \n",
       "708  On the way to catch our plane, we got a medium...  ['No Images']  "
      ]
     },
     "execution_count": 6,
     "metadata": {},
     "output_type": "execute_result"
    }
   ],
   "source": [
    "X_target = df[df['Rating'].isnull()]\n",
    "X_target.head()"
   ]
  },
  {
   "cell_type": "code",
   "execution_count": 7,
   "id": "2eaa1ac4",
   "metadata": {
    "execution": {
     "iopub.execute_input": "2023-11-27T04:34:07.877077Z",
     "iopub.status.busy": "2023-11-27T04:34:07.876845Z",
     "iopub.status.idle": "2023-11-27T04:34:07.881845Z",
     "shell.execute_reply": "2023-11-27T04:34:07.881183Z"
    },
    "papermill": {
     "duration": 0.012715,
     "end_time": "2023-11-27T04:34:07.883414",
     "exception": false,
     "start_time": "2023-11-27T04:34:07.870699",
     "status": "completed"
    },
    "tags": []
   },
   "outputs": [
    {
     "data": {
      "text/plain": [
       "(145, 6)"
      ]
     },
     "execution_count": 7,
     "metadata": {},
     "output_type": "execute_result"
    }
   ],
   "source": [
    "X_target.shape"
   ]
  },
  {
   "cell_type": "code",
   "execution_count": 8,
   "id": "2dfe035c",
   "metadata": {
    "execution": {
     "iopub.execute_input": "2023-11-27T04:34:07.895617Z",
     "iopub.status.busy": "2023-11-27T04:34:07.895407Z",
     "iopub.status.idle": "2023-11-27T04:34:07.902966Z",
     "shell.execute_reply": "2023-11-27T04:34:07.902298Z"
    },
    "papermill": {
     "duration": 0.015552,
     "end_time": "2023-11-27T04:34:07.904548",
     "exception": false,
     "start_time": "2023-11-27T04:34:07.888996",
     "status": "completed"
    },
    "tags": []
   },
   "outputs": [
    {
     "data": {
      "text/plain": [
       "name           0\n",
       "location       0\n",
       "Date           0\n",
       "Rating         0\n",
       "Review         0\n",
       "Image_Links    0\n",
       "dtype: int64"
      ]
     },
     "execution_count": 8,
     "metadata": {},
     "output_type": "execute_result"
    }
   ],
   "source": [
    "# create a deep copy of the data to avoid comprimising the integrity of the original data\n",
    "# the deep copy can be safely manipulated and altered and if a new copy needs to be made\n",
    "# the original is still intact.\n",
    "\n",
    "df_copy = df.copy(deep=True)\n",
    "df_copy.dropna(inplace=True)\n",
    "df_copy.isnull().sum()"
   ]
  },
  {
   "cell_type": "code",
   "execution_count": 9,
   "id": "6bc38c9b",
   "metadata": {
    "execution": {
     "iopub.execute_input": "2023-11-27T04:34:07.917001Z",
     "iopub.status.busy": "2023-11-27T04:34:07.916784Z",
     "iopub.status.idle": "2023-11-27T04:34:07.921429Z",
     "shell.execute_reply": "2023-11-27T04:34:07.920673Z"
    },
    "papermill": {
     "duration": 0.012595,
     "end_time": "2023-11-27T04:34:07.922988",
     "exception": false,
     "start_time": "2023-11-27T04:34:07.910393",
     "status": "completed"
    },
    "tags": []
   },
   "outputs": [
    {
     "data": {
      "text/plain": [
       "(705, 6)"
      ]
     },
     "execution_count": 9,
     "metadata": {},
     "output_type": "execute_result"
    }
   ],
   "source": [
    "df_copy.shape"
   ]
  },
  {
   "cell_type": "code",
   "execution_count": 10,
   "id": "c65d73e1",
   "metadata": {
    "execution": {
     "iopub.execute_input": "2023-11-27T04:34:07.935389Z",
     "iopub.status.busy": "2023-11-27T04:34:07.935173Z",
     "iopub.status.idle": "2023-11-27T04:34:07.946339Z",
     "shell.execute_reply": "2023-11-27T04:34:07.945598Z"
    },
    "papermill": {
     "duration": 0.019082,
     "end_time": "2023-11-27T04:34:07.947900",
     "exception": false,
     "start_time": "2023-11-27T04:34:07.928818",
     "status": "completed"
    },
    "tags": []
   },
   "outputs": [
    {
     "data": {
      "text/html": [
       "<div>\n",
       "<style scoped>\n",
       "    .dataframe tbody tr th:only-of-type {\n",
       "        vertical-align: middle;\n",
       "    }\n",
       "\n",
       "    .dataframe tbody tr th {\n",
       "        vertical-align: top;\n",
       "    }\n",
       "\n",
       "    .dataframe thead th {\n",
       "        text-align: right;\n",
       "    }\n",
       "</style>\n",
       "<table border=\"1\" class=\"dataframe\">\n",
       "  <thead>\n",
       "    <tr style=\"text-align: right;\">\n",
       "      <th></th>\n",
       "      <th>Rating</th>\n",
       "      <th>Review</th>\n",
       "    </tr>\n",
       "  </thead>\n",
       "  <tbody>\n",
       "    <tr>\n",
       "      <th>0</th>\n",
       "      <td>5.0</td>\n",
       "      <td>Amber and LaDonna at the Starbucks on Southwes...</td>\n",
       "    </tr>\n",
       "    <tr>\n",
       "      <th>1</th>\n",
       "      <td>5.0</td>\n",
       "      <td>** at the Starbucks by the fire station on 436...</td>\n",
       "    </tr>\n",
       "    <tr>\n",
       "      <th>2</th>\n",
       "      <td>5.0</td>\n",
       "      <td>I just wanted to go out of my way to recognize...</td>\n",
       "    </tr>\n",
       "    <tr>\n",
       "      <th>3</th>\n",
       "      <td>5.0</td>\n",
       "      <td>Me and my friend were at Starbucks and my card...</td>\n",
       "    </tr>\n",
       "    <tr>\n",
       "      <th>4</th>\n",
       "      <td>5.0</td>\n",
       "      <td>I’m on this kick of drinking 5 cups of warm wa...</td>\n",
       "    </tr>\n",
       "  </tbody>\n",
       "</table>\n",
       "</div>"
      ],
      "text/plain": [
       "   Rating                                             Review\n",
       "0     5.0  Amber and LaDonna at the Starbucks on Southwes...\n",
       "1     5.0  ** at the Starbucks by the fire station on 436...\n",
       "2     5.0  I just wanted to go out of my way to recognize...\n",
       "3     5.0  Me and my friend were at Starbucks and my card...\n",
       "4     5.0  I’m on this kick of drinking 5 cups of warm wa..."
      ]
     },
     "execution_count": 10,
     "metadata": {},
     "output_type": "execute_result"
    }
   ],
   "source": [
    "df_copy.drop(['name', 'location', 'Date', 'Image_Links'], axis=1, inplace=True)\n",
    "df_copy.head()"
   ]
  },
  {
   "cell_type": "code",
   "execution_count": 11,
   "id": "c6ac7fb2",
   "metadata": {
    "execution": {
     "iopub.execute_input": "2023-11-27T04:34:07.960853Z",
     "iopub.status.busy": "2023-11-27T04:34:07.960595Z",
     "iopub.status.idle": "2023-11-27T04:34:07.970750Z",
     "shell.execute_reply": "2023-11-27T04:34:07.970228Z"
    },
    "papermill": {
     "duration": 0.018046,
     "end_time": "2023-11-27T04:34:07.972053",
     "exception": false,
     "start_time": "2023-11-27T04:34:07.954007",
     "status": "completed"
    },
    "tags": []
   },
   "outputs": [
    {
     "data": {
      "text/html": [
       "<div>\n",
       "<style scoped>\n",
       "    .dataframe tbody tr th:only-of-type {\n",
       "        vertical-align: middle;\n",
       "    }\n",
       "\n",
       "    .dataframe tbody tr th {\n",
       "        vertical-align: top;\n",
       "    }\n",
       "\n",
       "    .dataframe thead th {\n",
       "        text-align: right;\n",
       "    }\n",
       "</style>\n",
       "<table border=\"1\" class=\"dataframe\">\n",
       "  <thead>\n",
       "    <tr style=\"text-align: right;\">\n",
       "      <th></th>\n",
       "      <th>Rating</th>\n",
       "      <th>Review</th>\n",
       "      <th>label</th>\n",
       "    </tr>\n",
       "  </thead>\n",
       "  <tbody>\n",
       "    <tr>\n",
       "      <th>145</th>\n",
       "      <td>1.0</td>\n",
       "      <td>We ordered online &amp; paid but they lost order s...</td>\n",
       "      <td>0</td>\n",
       "    </tr>\n",
       "    <tr>\n",
       "      <th>2</th>\n",
       "      <td>5.0</td>\n",
       "      <td>I just wanted to go out of my way to recognize...</td>\n",
       "      <td>1</td>\n",
       "    </tr>\n",
       "    <tr>\n",
       "      <th>98</th>\n",
       "      <td>1.0</td>\n",
       "      <td>Corporate here in Denver Colorado HONESTLY DO ...</td>\n",
       "      <td>0</td>\n",
       "    </tr>\n",
       "    <tr>\n",
       "      <th>545</th>\n",
       "      <td>2.0</td>\n",
       "      <td>Recently Starbucks changed the design of their...</td>\n",
       "      <td>0</td>\n",
       "    </tr>\n",
       "    <tr>\n",
       "      <th>290</th>\n",
       "      <td>1.0</td>\n",
       "      <td>Bought the Milk Frother at the official Starbu...</td>\n",
       "      <td>0</td>\n",
       "    </tr>\n",
       "  </tbody>\n",
       "</table>\n",
       "</div>"
      ],
      "text/plain": [
       "     Rating                                             Review  label\n",
       "145     1.0  We ordered online & paid but they lost order s...      0\n",
       "2       5.0  I just wanted to go out of my way to recognize...      1\n",
       "98      1.0  Corporate here in Denver Colorado HONESTLY DO ...      0\n",
       "545     2.0  Recently Starbucks changed the design of their...      0\n",
       "290     1.0  Bought the Milk Frother at the official Starbu...      0"
      ]
     },
     "execution_count": 11,
     "metadata": {},
     "output_type": "execute_result"
    }
   ],
   "source": [
    "df_copy['label'] = np.where(df_copy['Rating'] > 3, 1, 0) #Assign 1 when rating 3 or above else assign 0.\n",
    "df_copy.sample(5)"
   ]
  },
  {
   "cell_type": "markdown",
   "id": "2c8d587e",
   "metadata": {
    "papermill": {
     "duration": 0.005834,
     "end_time": "2023-11-27T04:34:07.983881",
     "exception": false,
     "start_time": "2023-11-27T04:34:07.978047",
     "status": "completed"
    },
    "tags": []
   },
   "source": [
    "Now that the data has been loaded into a deep copy and the null data has been copied and removed the baseline can be set."
   ]
  },
  {
   "cell_type": "code",
   "execution_count": 12,
   "id": "ddac7771",
   "metadata": {
    "execution": {
     "iopub.execute_input": "2023-11-27T04:34:07.997116Z",
     "iopub.status.busy": "2023-11-27T04:34:07.996712Z",
     "iopub.status.idle": "2023-11-27T04:34:08.894781Z",
     "shell.execute_reply": "2023-11-27T04:34:08.893862Z"
    },
    "papermill": {
     "duration": 0.907019,
     "end_time": "2023-11-27T04:34:08.896969",
     "exception": false,
     "start_time": "2023-11-27T04:34:07.989950",
     "status": "completed"
    },
    "tags": []
   },
   "outputs": [],
   "source": [
    "# split data into train and validation sets: df_train and df_val\n",
    "from sklearn.model_selection import train_test_split\n",
    "\n",
    "X = df_copy['Review'].copy()\n",
    "y = df_copy['label'].copy()\n",
    "\n",
    "X_train_raw, X_val_raw, y_train, y_val = train_test_split(X, y, test_size=0.20, random_state=42)"
   ]
  },
  {
   "cell_type": "code",
   "execution_count": 13,
   "id": "22eaeaa9",
   "metadata": {
    "execution": {
     "iopub.execute_input": "2023-11-27T04:34:08.910733Z",
     "iopub.status.busy": "2023-11-27T04:34:08.910433Z",
     "iopub.status.idle": "2023-11-27T04:34:09.040532Z",
     "shell.execute_reply": "2023-11-27T04:34:09.039747Z"
    },
    "papermill": {
     "duration": 0.138631,
     "end_time": "2023-11-27T04:34:09.042127",
     "exception": false,
     "start_time": "2023-11-27T04:34:08.903496",
     "status": "completed"
    },
    "tags": []
   },
   "outputs": [
    {
     "name": "stdout",
     "output_type": "stream",
     "text": [
      "X_train.shape = (564, 4908)\n"
     ]
    },
    {
     "data": {
      "text/plain": [
       "numpy.ndarray"
      ]
     },
     "execution_count": 13,
     "metadata": {},
     "output_type": "execute_result"
    }
   ],
   "source": [
    "from sklearn.feature_extraction.text import TfidfVectorizer\n",
    "#import seaborn as sns\n",
    "\n",
    "tfidf_vectorizer = TfidfVectorizer()\n",
    "X_train = tfidf_vectorizer.fit_transform(X_train_raw).toarray()\n",
    "\n",
    "# an alternative is to use term frequency:\n",
    "#from sklearn.feature_extraction.text import CountVectorizer\n",
    "#one_hot_vectorizer = CountVectorizer(binary=True)\n",
    "#X_train = one_hot_vectorizer.fit_transform(X_train_raw))\n",
    "\n",
    "print(f\"X_train.shape = {X_train.shape}\")\n",
    "type(X_train)"
   ]
  },
  {
   "cell_type": "code",
   "execution_count": 14,
   "id": "f0a43021",
   "metadata": {
    "execution": {
     "iopub.execute_input": "2023-11-27T04:34:09.056739Z",
     "iopub.status.busy": "2023-11-27T04:34:09.056038Z",
     "iopub.status.idle": "2023-11-27T04:34:09.833466Z",
     "shell.execute_reply": "2023-11-27T04:34:09.832894Z"
    },
    "papermill": {
     "duration": 0.786178,
     "end_time": "2023-11-27T04:34:09.834994",
     "exception": false,
     "start_time": "2023-11-27T04:34:09.048816",
     "status": "completed"
    },
    "tags": []
   },
   "outputs": [
    {
     "name": "stdout",
     "output_type": "stream",
     "text": [
      "accuracy (on y_train): 1.0000\n"
     ]
    },
    {
     "data": {
      "image/png": "[encoded data removed]",
      "text/plain": [
       "<Figure size 640x480 with 2 Axes>"
      ]
     },
     "metadata": {},
     "output_type": "display_data"
    }
   ],
   "source": [
    "from sklearn.ensemble import RandomForestClassifier\n",
    "from sklearn.metrics import confusion_matrix, ConfusionMatrixDisplay, accuracy_score, mean_squared_error\n",
    "\n",
    "model = RandomForestClassifier(n_estimators=100)\n",
    "model = model.fit(X_train, y_train)\n",
    "\n",
    "predictions_train = model.predict(X_train)\n",
    "\n",
    "disp = ConfusionMatrixDisplay(confusion_matrix(y_train, predictions_train), display_labels=['0', '1'])\n",
    "disp.plot()\n",
    "print(f\"accuracy (on y_train): {accuracy_score(y_train, predictions_train):.4f}\")"
   ]
  },
  {
   "cell_type": "code",
   "execution_count": 15,
   "id": "02f35b25",
   "metadata": {
    "execution": {
     "iopub.execute_input": "2023-11-27T04:34:09.850028Z",
     "iopub.status.busy": "2023-11-27T04:34:09.849389Z",
     "iopub.status.idle": "2023-11-27T04:34:09.863944Z",
     "shell.execute_reply": "2023-11-27T04:34:09.863123Z"
    },
    "papermill": {
     "duration": 0.02391,
     "end_time": "2023-11-27T04:34:09.865715",
     "exception": false,
     "start_time": "2023-11-27T04:34:09.841805",
     "status": "completed"
    },
    "tags": []
   },
   "outputs": [
    {
     "name": "stdout",
     "output_type": "stream",
     "text": [
      "X_val.shape = (141, 4908)\n"
     ]
    },
    {
     "data": {
      "text/plain": [
       "numpy.ndarray"
      ]
     },
     "execution_count": 15,
     "metadata": {},
     "output_type": "execute_result"
    }
   ],
   "source": [
    "X_val = tfidf_vectorizer.transform(X_val_raw).toarray()\n",
    "print(f\"X_val.shape = {X_val.shape}\")\n",
    "type(X_val)"
   ]
  },
  {
   "cell_type": "code",
   "execution_count": 16,
   "id": "189dec5a",
   "metadata": {
    "execution": {
     "iopub.execute_input": "2023-11-27T04:34:09.880581Z",
     "iopub.status.busy": "2023-11-27T04:34:09.879981Z",
     "iopub.status.idle": "2023-11-27T04:34:10.080316Z",
     "shell.execute_reply": "2023-11-27T04:34:10.079618Z"
    },
    "papermill": {
     "duration": 0.209222,
     "end_time": "2023-11-27T04:34:10.081930",
     "exception": false,
     "start_time": "2023-11-27T04:34:09.872708",
     "status": "completed"
    },
    "tags": []
   },
   "outputs": [
    {
     "name": "stdout",
     "output_type": "stream",
     "text": [
      "accuracy (on y_val): 0.8227\n",
      "mean squared error (on y_val): 0.1773\n"
     ]
    },
    {
     "data": {
      "image/png": "[encoded data removed]",
      "text/plain": [
       "<Figure size 640x480 with 2 Axes>"
      ]
     },
     "metadata": {},
     "output_type": "display_data"
    }
   ],
   "source": [
    "predictions_val = model.predict(X_val)\n",
    "disp = ConfusionMatrixDisplay(confusion_matrix(y_val, predictions_val), display_labels=['0', '1'])\n",
    "disp.plot()\n",
    "print(f\"accuracy (on y_val): {accuracy_score(y_val, predictions_val):.4f}\")\n",
    "print(f\"mean squared error (on y_val): {mean_squared_error(y_val, predictions_val):.4f}\")"
   ]
  },
  {
   "cell_type": "markdown",
   "id": "83a67c99",
   "metadata": {
    "papermill": {
     "duration": 0.006866,
     "end_time": "2023-11-27T04:34:10.095929",
     "exception": false,
     "start_time": "2023-11-27T04:34:10.089063",
     "status": "completed"
    },
    "tags": []
   },
   "source": [
    "# RandomForestClassifier Results!\n",
    "\n",
    "The model as a baseline has an accuracy of 0.8227. This is well above the 0.75 accuracy that was desired to be acheived in part 1. The precision, recall, F1 score, and loss calculated using mean squared error are as follows:\n",
    "\n",
    "-Precision = .8571\n",
    "\n",
    "-Recall = .2\n",
    "\n",
    "-F1 = .3243\n",
    "\n",
    "-loss = 0.1773\n",
    "\n",
    "The Precision was high, however the recall of the model was low as well as the F1 score. The low Recall was due to a series of false negatives which was more than likely caused by the majority of the training data being negative. Though this likely is due to a bias in the data this should be acceptable."
   ]
  },
  {
   "cell_type": "code",
   "execution_count": 17,
   "id": "847cffc3",
   "metadata": {
    "execution": {
     "iopub.execute_input": "2023-11-27T04:34:10.111074Z",
     "iopub.status.busy": "2023-11-27T04:34:10.110831Z",
     "iopub.status.idle": "2023-11-27T04:34:16.741383Z",
     "shell.execute_reply": "2023-11-27T04:34:16.740552Z"
    },
    "papermill": {
     "duration": 6.64037,
     "end_time": "2023-11-27T04:34:16.743255",
     "exception": false,
     "start_time": "2023-11-27T04:34:10.102885",
     "status": "completed"
    },
    "tags": []
   },
   "outputs": [
    {
     "name": "stdout",
     "output_type": "stream",
     "text": [
      "accuracy (on y_train): 1.0000\n"
     ]
    },
    {
     "data": {
      "image/png": "[encoded data removed]",
      "text/plain": [
       "<Figure size 640x480 with 2 Axes>"
      ]
     },
     "metadata": {},
     "output_type": "display_data"
    }
   ],
   "source": [
    "\n",
    "\n",
    "from sklearn.ensemble import HistGradientBoostingClassifier\n",
    "\n",
    "#model = ExtraTreesClassifier(n_estimators=160)\n",
    "model2 = HistGradientBoostingClassifier(max_leaf_nodes = 32)\n",
    "model2 = model2.fit(X_train, y_train)\n",
    "\n",
    "predictions_train = model2.predict(X_train)\n",
    "\n",
    "disp = ConfusionMatrixDisplay(confusion_matrix(y_train, predictions_train), display_labels=['0', '1'])\n",
    "disp.plot()\n",
    "print(f\"accuracy (on y_train): {accuracy_score(y_train, predictions_train):.4f}\")"
   ]
  },
  {
   "cell_type": "code",
   "execution_count": 18,
   "id": "c74f5b84",
   "metadata": {
    "execution": {
     "iopub.execute_input": "2023-11-27T04:34:16.759446Z",
     "iopub.status.busy": "2023-11-27T04:34:16.759185Z",
     "iopub.status.idle": "2023-11-27T04:34:16.952646Z",
     "shell.execute_reply": "2023-11-27T04:34:16.951824Z"
    },
    "papermill": {
     "duration": 0.203251,
     "end_time": "2023-11-27T04:34:16.954314",
     "exception": false,
     "start_time": "2023-11-27T04:34:16.751063",
     "status": "completed"
    },
    "tags": []
   },
   "outputs": [
    {
     "name": "stdout",
     "output_type": "stream",
     "text": [
      "accuracy (on y_val): 0.8227\n",
      "mean squared error (on y_val): 0.1418\n"
     ]
    },
    {
     "data": {
      "image/png": "[encoded data removed]",
      "text/plain": [
       "<Figure size 640x480 with 2 Axes>"
      ]
     },
     "metadata": {},
     "output_type": "display_data"
    }
   ],
   "source": [
    "predictions_val2 = model2.predict(X_val)\n",
    "disp = ConfusionMatrixDisplay(confusion_matrix(y_val, predictions_val2), display_labels=['0', '1'])\n",
    "disp.plot()\n",
    "print(f\"accuracy (on y_val): {accuracy_score(y_val, predictions_val):.4f}\")\n",
    "print(f\"mean squared error (on y_val): {mean_squared_error(y_val, predictions_val2):.4f}\")"
   ]
  },
  {
   "cell_type": "markdown",
   "id": "8a9066f0",
   "metadata": {
    "papermill": {
     "duration": 0.007509,
     "end_time": "2023-11-27T04:34:16.969578",
     "exception": false,
     "start_time": "2023-11-27T04:34:16.962069",
     "status": "completed"
    },
    "tags": []
   },
   "source": [
    "# HistGradientBoostingClassifier Results!\n",
    "\n",
    "The second model has an accuracy of 0.8227. As with the RandomForestClassifier we will also calculate the precision, recall, F1 score, and loss calculated using mean squared error:\n",
    "\n",
    "-Precision = .8125\n",
    "\n",
    "-Recall = .4333\n",
    "\n",
    "-F1 = .5652\n",
    "\n",
    "-loss = 0.1418\n",
    "\n",
    "Overall, the second model did outpreform RandomForestClassifier in terms of Recall and F1 score, however, there was a small decrease in Precision. Next hyperparameters will be adjusted to see what changes will occure if any with the models.\n",
    "\n",
    "Starting with n_estimators and max_depth in RandomForestClassifier "
   ]
  },
  {
   "cell_type": "code",
   "execution_count": 19,
   "id": "f03d2a4f",
   "metadata": {
    "execution": {
     "iopub.execute_input": "2023-11-27T04:34:16.985973Z",
     "iopub.status.busy": "2023-11-27T04:34:16.985699Z",
     "iopub.status.idle": "2023-11-27T04:34:17.378059Z",
     "shell.execute_reply": "2023-11-27T04:34:17.376339Z"
    },
    "papermill": {
     "duration": 0.402797,
     "end_time": "2023-11-27T04:34:17.379824",
     "exception": false,
     "start_time": "2023-11-27T04:34:16.977027",
     "status": "completed"
    },
    "tags": []
   },
   "outputs": [
    {
     "name": "stdout",
     "output_type": "stream",
     "text": [
      "accuracy (on y_train): 1.0000\n"
     ]
    },
    {
     "data": {
      "image/png": "[encoded data removed]",
      "text/plain": [
       "<Figure size 640x480 with 2 Axes>"
      ]
     },
     "metadata": {},
     "output_type": "display_data"
    }
   ],
   "source": [
    "model = RandomForestClassifier(n_estimators=50)\n",
    "model = model.fit(X_train, y_train)\n",
    "\n",
    "predictions_train = model.predict(X_train)\n",
    "\n",
    "disp = ConfusionMatrixDisplay(confusion_matrix(y_train, predictions_train), display_labels=['0', '1'])\n",
    "disp.plot()\n",
    "print(f\"accuracy (on y_train): {accuracy_score(y_train, predictions_train):.4f}\")"
   ]
  },
  {
   "cell_type": "code",
   "execution_count": 20,
   "id": "a85758cd",
   "metadata": {
    "execution": {
     "iopub.execute_input": "2023-11-27T04:34:17.397535Z",
     "iopub.status.busy": "2023-11-27T04:34:17.396910Z",
     "iopub.status.idle": "2023-11-27T04:34:17.592795Z",
     "shell.execute_reply": "2023-11-27T04:34:17.591880Z"
    },
    "papermill": {
     "duration": 0.206266,
     "end_time": "2023-11-27T04:34:17.594441",
     "exception": false,
     "start_time": "2023-11-27T04:34:17.388175",
     "status": "completed"
    },
    "tags": []
   },
   "outputs": [
    {
     "name": "stdout",
     "output_type": "stream",
     "text": [
      "accuracy (on y_val): 0.8369\n",
      "mean squared error (on y_val): 0.1631\n"
     ]
    },
    {
     "data": {
      "image/png": "[encoded data removed]",
      "text/plain": [
       "<Figure size 640x480 with 2 Axes>"
      ]
     },
     "metadata": {},
     "output_type": "display_data"
    }
   ],
   "source": [
    "predictions_val = model.predict(X_val)\n",
    "disp = ConfusionMatrixDisplay(confusion_matrix(y_val, predictions_val), display_labels=['0', '1'])\n",
    "disp.plot()\n",
    "print(f\"accuracy (on y_val): {accuracy_score(y_val, predictions_val):.4f}\")\n",
    "print(f\"mean squared error (on y_val): {mean_squared_error(y_val, predictions_val):.4f}\")"
   ]
  }
 ],
 "metadata": {
  "kaggle": {
   "accelerator": "none",
   "dataSources": [
    {
     "datasetId": 3741616,
     "sourceId": 6476914,
     "sourceType": "datasetVersion"
    }
   ],
   "dockerImageVersionId": 30587,
   "isGpuEnabled": false,
   "isInternetEnabled": true,
   "language": "python",
   "sourceType": "notebook"
  },
  "kernelspec": {
   "display_name": "Python 3",
   "language": "python",
   "name": "python3"
  },
  "language_info": {
   "codemirror_mode": {
    "name": "ipython",
    "version": 3
   },
   "file_extension": ".py",
   "mimetype": "text/x-python",
   "name": "python",
   "nbconvert_exporter": "python",
   "pygments_lexer": "ipython3",
   "version": "3.10.12"
  },
  "papermill": {
   "default_parameters": {},
   "duration": 12.86605,
   "end_time": "2023-11-27T04:34:18.019473",
   "environment_variables": {},
   "exception": null,
   "input_path": "__notebook__.ipynb",
   "output_path": "__notebook__.ipynb",
   "parameters": {},
   "start_time": "2023-11-27T04:34:05.153423",
   "version": "2.4.0"
  }
 },
 "nbformat": 4,
 "nbformat_minor": 5
}

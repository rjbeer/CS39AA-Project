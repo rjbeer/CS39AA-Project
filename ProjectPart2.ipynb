{
 "cells": [
  {
   "cell_type": "markdown",
   "id": "df803cf3",
   "metadata": {
    "papermill": {
     "duration": 0.007544,
     "end_time": "2023-11-27T06:41:35.287272",
     "exception": false,
     "start_time": "2023-11-27T06:41:35.279728",
     "status": "completed"
    },
    "tags": []
   },
   "source": [
    "# Project Part 2\n",
    "\n",
    "[![Kaggle](https://kaggle.com/static/images/open-in-kaggle.svg)](https://kaggle.com/kernels/welcome?src=https://github.com/rjbeer/CS39AA-Project/blob/main/Project%20Part%201.ipynb)\n",
    "\n",
    "# update kaggle link to accurately reflect part 2"
   ]
  },
  {
   "cell_type": "markdown",
   "id": "60f0a8cc",
   "metadata": {
    "papermill": {
     "duration": 0.006413,
     "end_time": "2023-11-27T06:41:35.300436",
     "exception": false,
     "start_time": "2023-11-27T06:41:35.294023",
     "status": "completed"
    },
    "tags": []
   },
   "source": [
    "# Setting a Baseline\n",
    "\n",
    "As mention in part 1 of the project a baseline model will be created for 2 machine learning models. First random forest will be used and a baseline will be created, then the same will be done for HistGradientBoostingClassifier. Before this can be done however, previous steps from the notebook Project Part 1 must be redone so that we can begin.\n",
    "\n",
    "## Special Note\n",
    "\n",
    "Because of the bias introduced by the original data all Ratings of 1 have been removed as there was almost no change noted in the chosen models."
   ]
  },
  {
   "cell_type": "code",
   "execution_count": 1,
   "id": "4317e1fb",
   "metadata": {
    "_cell_guid": "b1076dfc-b9ad-4769-8c92-a6c4dae69d19",
    "_uuid": "8f2839f25d086af736a60e9eeb907d3b93b6e0e5",
    "execution": {
     "iopub.execute_input": "2023-11-27T06:41:35.315541Z",
     "iopub.status.busy": "2023-11-27T06:41:35.315060Z",
     "iopub.status.idle": "2023-11-27T06:41:35.696068Z",
     "shell.execute_reply": "2023-11-27T06:41:35.694950Z"
    },
    "papermill": {
     "duration": 0.393059,
     "end_time": "2023-11-27T06:41:35.699952",
     "exception": false,
     "start_time": "2023-11-27T06:41:35.306893",
     "status": "completed"
    },
    "tags": []
   },
   "outputs": [
    {
     "name": "stdout",
     "output_type": "stream",
     "text": [
      "/kaggle/input/starbucks-reviews-dataset/reviews_data.csv\n"
     ]
    }
   ],
   "source": [
    "# This Python 3 environment comes with many helpful analytics libraries installed\n",
    "# It is defined by the kaggle/python Docker image: https://github.com/kaggle/docker-python\n",
    "# For example, here's several helpful packages to load\n",
    "\n",
    "import numpy as np # linear algebra\n",
    "import pandas as pd # data processing, CSV file I/O (e.g. pd.read_csv)\n",
    "\n",
    "# Input data files are available in the read-only \"../input/\" directory\n",
    "# For example, running this (by clicking run or pressing Shift+Enter) will list all files under the input directory\n",
    "\n",
    "import os\n",
    "for dirname, _, filenames in os.walk('/kaggle/input'):\n",
    "    for filename in filenames:\n",
    "        print(os.path.join(dirname, filename))\n",
    "\n",
    "# You can write up to 20GB to the current directory (/kaggle/working/) that gets preserved as output when you create a version using \"Save & Run All\" \n",
    "# You can also write temporary files to /kaggle/temp/, but they won't be saved outside of the current session"
   ]
  },
  {
   "cell_type": "code",
   "execution_count": 2,
   "id": "6f619a42",
   "metadata": {
    "execution": {
     "iopub.execute_input": "2023-11-27T06:41:35.716053Z",
     "iopub.status.busy": "2023-11-27T06:41:35.715074Z",
     "iopub.status.idle": "2023-11-27T06:41:35.769816Z",
     "shell.execute_reply": "2023-11-27T06:41:35.768721Z"
    },
    "papermill": {
     "duration": 0.065238,
     "end_time": "2023-11-27T06:41:35.772156",
     "exception": false,
     "start_time": "2023-11-27T06:41:35.706918",
     "status": "completed"
    },
    "tags": []
   },
   "outputs": [
    {
     "data": {
      "text/html": [
       "<div>\n",
       "<style scoped>\n",
       "    .dataframe tbody tr th:only-of-type {\n",
       "        vertical-align: middle;\n",
       "    }\n",
       "\n",
       "    .dataframe tbody tr th {\n",
       "        vertical-align: top;\n",
       "    }\n",
       "\n",
       "    .dataframe thead th {\n",
       "        text-align: right;\n",
       "    }\n",
       "</style>\n",
       "<table border=\"1\" class=\"dataframe\">\n",
       "  <thead>\n",
       "    <tr style=\"text-align: right;\">\n",
       "      <th></th>\n",
       "      <th>name</th>\n",
       "      <th>location</th>\n",
       "      <th>Date</th>\n",
       "      <th>Rating</th>\n",
       "      <th>Review</th>\n",
       "      <th>Image_Links</th>\n",
       "    </tr>\n",
       "  </thead>\n",
       "  <tbody>\n",
       "    <tr>\n",
       "      <th>0</th>\n",
       "      <td>Helen</td>\n",
       "      <td>Wichita Falls, TX</td>\n",
       "      <td>Reviewed Sept. 13, 2023</td>\n",
       "      <td>5.0</td>\n",
       "      <td>Amber and LaDonna at the Starbucks on Southwes...</td>\n",
       "      <td>['No Images']</td>\n",
       "    </tr>\n",
       "    <tr>\n",
       "      <th>1</th>\n",
       "      <td>Courtney</td>\n",
       "      <td>Apopka, FL</td>\n",
       "      <td>Reviewed July 16, 2023</td>\n",
       "      <td>5.0</td>\n",
       "      <td>** at the Starbucks by the fire station on 436...</td>\n",
       "      <td>['No Images']</td>\n",
       "    </tr>\n",
       "    <tr>\n",
       "      <th>2</th>\n",
       "      <td>Daynelle</td>\n",
       "      <td>Cranberry Twp, PA</td>\n",
       "      <td>Reviewed July 5, 2023</td>\n",
       "      <td>5.0</td>\n",
       "      <td>I just wanted to go out of my way to recognize...</td>\n",
       "      <td>['https://media.consumeraffairs.com/files/cach...</td>\n",
       "    </tr>\n",
       "    <tr>\n",
       "      <th>3</th>\n",
       "      <td>Taylor</td>\n",
       "      <td>Seattle, WA</td>\n",
       "      <td>Reviewed May 26, 2023</td>\n",
       "      <td>5.0</td>\n",
       "      <td>Me and my friend were at Starbucks and my card...</td>\n",
       "      <td>['No Images']</td>\n",
       "    </tr>\n",
       "    <tr>\n",
       "      <th>4</th>\n",
       "      <td>Tenessa</td>\n",
       "      <td>Gresham, OR</td>\n",
       "      <td>Reviewed Jan. 22, 2023</td>\n",
       "      <td>5.0</td>\n",
       "      <td>I’m on this kick of drinking 5 cups of warm wa...</td>\n",
       "      <td>['https://media.consumeraffairs.com/files/cach...</td>\n",
       "    </tr>\n",
       "  </tbody>\n",
       "</table>\n",
       "</div>"
      ],
      "text/plain": [
       "       name           location                     Date  Rating  \\\n",
       "0     Helen  Wichita Falls, TX  Reviewed Sept. 13, 2023     5.0   \n",
       "1  Courtney         Apopka, FL   Reviewed July 16, 2023     5.0   \n",
       "2  Daynelle  Cranberry Twp, PA    Reviewed July 5, 2023     5.0   \n",
       "3    Taylor        Seattle, WA    Reviewed May 26, 2023     5.0   \n",
       "4   Tenessa        Gresham, OR   Reviewed Jan. 22, 2023     5.0   \n",
       "\n",
       "                                              Review  \\\n",
       "0  Amber and LaDonna at the Starbucks on Southwes...   \n",
       "1  ** at the Starbucks by the fire station on 436...   \n",
       "2  I just wanted to go out of my way to recognize...   \n",
       "3  Me and my friend were at Starbucks and my card...   \n",
       "4  I’m on this kick of drinking 5 cups of warm wa...   \n",
       "\n",
       "                                         Image_Links  \n",
       "0                                      ['No Images']  \n",
       "1                                      ['No Images']  \n",
       "2  ['https://media.consumeraffairs.com/files/cach...  \n",
       "3                                      ['No Images']  \n",
       "4  ['https://media.consumeraffairs.com/files/cach...  "
      ]
     },
     "execution_count": 2,
     "metadata": {},
     "output_type": "execute_result"
    }
   ],
   "source": [
    "#data loaded into dataframe and first 5 printed\n",
    "\n",
    "input_data_path = '/kaggle/input/starbucks-reviews-dataset/'\n",
    "training_data_file = 'reviews_data.csv'\n",
    "df = pd.read_csv(input_data_path + training_data_file)\n",
    "df.head()"
   ]
  },
  {
   "cell_type": "code",
   "execution_count": 3,
   "id": "75939dfa",
   "metadata": {
    "execution": {
     "iopub.execute_input": "2023-11-27T06:41:35.788135Z",
     "iopub.status.busy": "2023-11-27T06:41:35.787756Z",
     "iopub.status.idle": "2023-11-27T06:41:35.796613Z",
     "shell.execute_reply": "2023-11-27T06:41:35.795609Z"
    },
    "papermill": {
     "duration": 0.019395,
     "end_time": "2023-11-27T06:41:35.798716",
     "exception": false,
     "start_time": "2023-11-27T06:41:35.779321",
     "status": "completed"
    },
    "tags": []
   },
   "outputs": [
    {
     "data": {
      "text/plain": [
       "name             0\n",
       "location         0\n",
       "Date             0\n",
       "Rating         145\n",
       "Review           0\n",
       "Image_Links      0\n",
       "dtype: int64"
      ]
     },
     "execution_count": 3,
     "metadata": {},
     "output_type": "execute_result"
    }
   ],
   "source": [
    "df.isnull().sum()"
   ]
  },
  {
   "cell_type": "code",
   "execution_count": 4,
   "id": "60c5b0b8",
   "metadata": {
    "execution": {
     "iopub.execute_input": "2023-11-27T06:41:35.815609Z",
     "iopub.status.busy": "2023-11-27T06:41:35.814705Z",
     "iopub.status.idle": "2023-11-27T06:41:35.821126Z",
     "shell.execute_reply": "2023-11-27T06:41:35.820153Z"
    },
    "papermill": {
     "duration": 0.017408,
     "end_time": "2023-11-27T06:41:35.823280",
     "exception": false,
     "start_time": "2023-11-27T06:41:35.805872",
     "status": "completed"
    },
    "tags": []
   },
   "outputs": [
    {
     "data": {
      "text/plain": [
       "(850, 6)"
      ]
     },
     "execution_count": 4,
     "metadata": {},
     "output_type": "execute_result"
    }
   ],
   "source": [
    "df.shape"
   ]
  },
  {
   "cell_type": "code",
   "execution_count": 5,
   "id": "aea334cc",
   "metadata": {
    "execution": {
     "iopub.execute_input": "2023-11-27T06:41:35.839542Z",
     "iopub.status.busy": "2023-11-27T06:41:35.839148Z",
     "iopub.status.idle": "2023-11-27T06:41:35.844907Z",
     "shell.execute_reply": "2023-11-27T06:41:35.844224Z"
    },
    "papermill": {
     "duration": 0.01619,
     "end_time": "2023-11-27T06:41:35.846752",
     "exception": false,
     "start_time": "2023-11-27T06:41:35.830562",
     "status": "completed"
    },
    "tags": []
   },
   "outputs": [
    {
     "data": {
      "text/plain": [
       "['name', 'location', 'Date', 'Rating', 'Review', 'Image_Links']"
      ]
     },
     "execution_count": 5,
     "metadata": {},
     "output_type": "execute_result"
    }
   ],
   "source": [
    "df.columns.tolist()"
   ]
  },
  {
   "cell_type": "code",
   "execution_count": 6,
   "id": "4256638b",
   "metadata": {
    "execution": {
     "iopub.execute_input": "2023-11-27T06:41:35.863729Z",
     "iopub.status.busy": "2023-11-27T06:41:35.862883Z",
     "iopub.status.idle": "2023-11-27T06:41:35.877501Z",
     "shell.execute_reply": "2023-11-27T06:41:35.876519Z"
    },
    "papermill": {
     "duration": 0.025682,
     "end_time": "2023-11-27T06:41:35.879923",
     "exception": false,
     "start_time": "2023-11-27T06:41:35.854241",
     "status": "completed"
    },
    "tags": []
   },
   "outputs": [
    {
     "data": {
      "text/html": [
       "<div>\n",
       "<style scoped>\n",
       "    .dataframe tbody tr th:only-of-type {\n",
       "        vertical-align: middle;\n",
       "    }\n",
       "\n",
       "    .dataframe tbody tr th {\n",
       "        vertical-align: top;\n",
       "    }\n",
       "\n",
       "    .dataframe thead th {\n",
       "        text-align: right;\n",
       "    }\n",
       "</style>\n",
       "<table border=\"1\" class=\"dataframe\">\n",
       "  <thead>\n",
       "    <tr style=\"text-align: right;\">\n",
       "      <th></th>\n",
       "      <th>name</th>\n",
       "      <th>location</th>\n",
       "      <th>Date</th>\n",
       "      <th>Rating</th>\n",
       "      <th>Review</th>\n",
       "      <th>Image_Links</th>\n",
       "    </tr>\n",
       "  </thead>\n",
       "  <tbody>\n",
       "    <tr>\n",
       "      <th>704</th>\n",
       "      <td>James</td>\n",
       "      <td>Kansas City, MO</td>\n",
       "      <td>Reviewed July 25, 2011</td>\n",
       "      <td>NaN</td>\n",
       "      <td>I just wanted to amend my email the I sent to ...</td>\n",
       "      <td>['No Images']</td>\n",
       "    </tr>\n",
       "    <tr>\n",
       "      <th>705</th>\n",
       "      <td>James</td>\n",
       "      <td>Kansas City, MO</td>\n",
       "      <td>Reviewed July 25, 2011</td>\n",
       "      <td>NaN</td>\n",
       "      <td>Recently, I have gone to your Starbucks at Bar...</td>\n",
       "      <td>['No Images']</td>\n",
       "    </tr>\n",
       "    <tr>\n",
       "      <th>706</th>\n",
       "      <td>Mike</td>\n",
       "      <td>Revere, ma</td>\n",
       "      <td>Reviewed June 26, 2011</td>\n",
       "      <td>NaN</td>\n",
       "      <td>Upon my first visit to this location on my way...</td>\n",
       "      <td>['No Images']</td>\n",
       "    </tr>\n",
       "    <tr>\n",
       "      <th>707</th>\n",
       "      <td>Hughes</td>\n",
       "      <td>Macclesfield, Other</td>\n",
       "      <td>Reviewed Jan. 13, 2011</td>\n",
       "      <td>NaN</td>\n",
       "      <td>Recently, British Royal Marines in Iraq wrote ...</td>\n",
       "      <td>['No Images']</td>\n",
       "    </tr>\n",
       "    <tr>\n",
       "      <th>708</th>\n",
       "      <td>Sherrilynn</td>\n",
       "      <td>Jenison, MI</td>\n",
       "      <td>Reviewed Jan. 4, 2011</td>\n",
       "      <td>NaN</td>\n",
       "      <td>On the way to catch our plane, we got a medium...</td>\n",
       "      <td>['No Images']</td>\n",
       "    </tr>\n",
       "  </tbody>\n",
       "</table>\n",
       "</div>"
      ],
      "text/plain": [
       "           name             location                    Date  Rating  \\\n",
       "704       James      Kansas City, MO  Reviewed July 25, 2011     NaN   \n",
       "705       James      Kansas City, MO  Reviewed July 25, 2011     NaN   \n",
       "706        Mike           Revere, ma  Reviewed June 26, 2011     NaN   \n",
       "707      Hughes  Macclesfield, Other  Reviewed Jan. 13, 2011     NaN   \n",
       "708  Sherrilynn          Jenison, MI   Reviewed Jan. 4, 2011     NaN   \n",
       "\n",
       "                                                Review    Image_Links  \n",
       "704  I just wanted to amend my email the I sent to ...  ['No Images']  \n",
       "705  Recently, I have gone to your Starbucks at Bar...  ['No Images']  \n",
       "706  Upon my first visit to this location on my way...  ['No Images']  \n",
       "707  Recently, British Royal Marines in Iraq wrote ...  ['No Images']  \n",
       "708  On the way to catch our plane, we got a medium...  ['No Images']  "
      ]
     },
     "execution_count": 6,
     "metadata": {},
     "output_type": "execute_result"
    }
   ],
   "source": [
    "X_target = df[df['Rating'].isnull()]\n",
    "X_target.head()"
   ]
  },
  {
   "cell_type": "code",
   "execution_count": 7,
   "id": "73b6daee",
   "metadata": {
    "execution": {
     "iopub.execute_input": "2023-11-27T06:41:35.897570Z",
     "iopub.status.busy": "2023-11-27T06:41:35.896824Z",
     "iopub.status.idle": "2023-11-27T06:41:35.903594Z",
     "shell.execute_reply": "2023-11-27T06:41:35.902483Z"
    },
    "papermill": {
     "duration": 0.018328,
     "end_time": "2023-11-27T06:41:35.905902",
     "exception": false,
     "start_time": "2023-11-27T06:41:35.887574",
     "status": "completed"
    },
    "tags": []
   },
   "outputs": [
    {
     "data": {
      "text/plain": [
       "(145, 6)"
      ]
     },
     "execution_count": 7,
     "metadata": {},
     "output_type": "execute_result"
    }
   ],
   "source": [
    "X_target.shape"
   ]
  },
  {
   "cell_type": "code",
   "execution_count": 8,
   "id": "229ab1af",
   "metadata": {
    "execution": {
     "iopub.execute_input": "2023-11-27T06:41:35.923713Z",
     "iopub.status.busy": "2023-11-27T06:41:35.922985Z",
     "iopub.status.idle": "2023-11-27T06:41:35.933536Z",
     "shell.execute_reply": "2023-11-27T06:41:35.932558Z"
    },
    "papermill": {
     "duration": 0.021859,
     "end_time": "2023-11-27T06:41:35.935674",
     "exception": false,
     "start_time": "2023-11-27T06:41:35.913815",
     "status": "completed"
    },
    "tags": []
   },
   "outputs": [
    {
     "data": {
      "text/plain": [
       "name           0\n",
       "location       0\n",
       "Date           0\n",
       "Rating         0\n",
       "Review         0\n",
       "Image_Links    0\n",
       "dtype: int64"
      ]
     },
     "execution_count": 8,
     "metadata": {},
     "output_type": "execute_result"
    }
   ],
   "source": [
    "# create a deep copy of the data to avoid comprimising the integrity of the original data\n",
    "# the deep copy can be safely manipulated and altered and if a new copy needs to be made\n",
    "# the original is still intact.\n",
    "\n",
    "df_copy = df.copy(deep=True)\n",
    "df_copy.dropna(inplace=True)\n",
    "df_copy.isnull().sum()"
   ]
  },
  {
   "cell_type": "code",
   "execution_count": 9,
   "id": "5dbd8d81",
   "metadata": {
    "execution": {
     "iopub.execute_input": "2023-11-27T06:41:35.953471Z",
     "iopub.status.busy": "2023-11-27T06:41:35.952715Z",
     "iopub.status.idle": "2023-11-27T06:41:35.959784Z",
     "shell.execute_reply": "2023-11-27T06:41:35.958664Z"
    },
    "papermill": {
     "duration": 0.018593,
     "end_time": "2023-11-27T06:41:35.961990",
     "exception": false,
     "start_time": "2023-11-27T06:41:35.943397",
     "status": "completed"
    },
    "tags": []
   },
   "outputs": [
    {
     "data": {
      "text/plain": [
       "(705, 6)"
      ]
     },
     "execution_count": 9,
     "metadata": {},
     "output_type": "execute_result"
    }
   ],
   "source": [
    "df_copy.shape"
   ]
  },
  {
   "cell_type": "code",
   "execution_count": 10,
   "id": "a4626dcc",
   "metadata": {
    "execution": {
     "iopub.execute_input": "2023-11-27T06:41:35.980396Z",
     "iopub.status.busy": "2023-11-27T06:41:35.979112Z",
     "iopub.status.idle": "2023-11-27T06:41:35.994060Z",
     "shell.execute_reply": "2023-11-27T06:41:35.993068Z"
    },
    "papermill": {
     "duration": 0.026375,
     "end_time": "2023-11-27T06:41:35.996297",
     "exception": false,
     "start_time": "2023-11-27T06:41:35.969922",
     "status": "completed"
    },
    "tags": []
   },
   "outputs": [
    {
     "data": {
      "text/html": [
       "<div>\n",
       "<style scoped>\n",
       "    .dataframe tbody tr th:only-of-type {\n",
       "        vertical-align: middle;\n",
       "    }\n",
       "\n",
       "    .dataframe tbody tr th {\n",
       "        vertical-align: top;\n",
       "    }\n",
       "\n",
       "    .dataframe thead th {\n",
       "        text-align: right;\n",
       "    }\n",
       "</style>\n",
       "<table border=\"1\" class=\"dataframe\">\n",
       "  <thead>\n",
       "    <tr style=\"text-align: right;\">\n",
       "      <th></th>\n",
       "      <th>Rating</th>\n",
       "      <th>Review</th>\n",
       "    </tr>\n",
       "  </thead>\n",
       "  <tbody>\n",
       "    <tr>\n",
       "      <th>0</th>\n",
       "      <td>5.0</td>\n",
       "      <td>Amber and LaDonna at the Starbucks on Southwes...</td>\n",
       "    </tr>\n",
       "    <tr>\n",
       "      <th>1</th>\n",
       "      <td>5.0</td>\n",
       "      <td>** at the Starbucks by the fire station on 436...</td>\n",
       "    </tr>\n",
       "    <tr>\n",
       "      <th>2</th>\n",
       "      <td>5.0</td>\n",
       "      <td>I just wanted to go out of my way to recognize...</td>\n",
       "    </tr>\n",
       "    <tr>\n",
       "      <th>3</th>\n",
       "      <td>5.0</td>\n",
       "      <td>Me and my friend were at Starbucks and my card...</td>\n",
       "    </tr>\n",
       "    <tr>\n",
       "      <th>4</th>\n",
       "      <td>5.0</td>\n",
       "      <td>I’m on this kick of drinking 5 cups of warm wa...</td>\n",
       "    </tr>\n",
       "  </tbody>\n",
       "</table>\n",
       "</div>"
      ],
      "text/plain": [
       "   Rating                                             Review\n",
       "0     5.0  Amber and LaDonna at the Starbucks on Southwes...\n",
       "1     5.0  ** at the Starbucks by the fire station on 436...\n",
       "2     5.0  I just wanted to go out of my way to recognize...\n",
       "3     5.0  Me and my friend were at Starbucks and my card...\n",
       "4     5.0  I’m on this kick of drinking 5 cups of warm wa..."
      ]
     },
     "execution_count": 10,
     "metadata": {},
     "output_type": "execute_result"
    }
   ],
   "source": [
    "df_copy.drop(['name', 'location', 'Date', 'Image_Links'], axis=1, inplace=True)\n",
    "df_copy.head()"
   ]
  },
  {
   "cell_type": "markdown",
   "id": "071246b6",
   "metadata": {
    "papermill": {
     "duration": 0.007799,
     "end_time": "2023-11-27T06:41:36.012452",
     "exception": false,
     "start_time": "2023-11-27T06:41:36.004653",
     "status": "completed"
    },
    "tags": []
   },
   "source": [
    "## Remove 1.0 Ratings\n",
    "\n",
    "Below any Rating of 1.0 is removed to avoid bias and allow for accuracy to see noticable changes."
   ]
  },
  {
   "cell_type": "code",
   "execution_count": 11,
   "id": "83ace87a",
   "metadata": {
    "execution": {
     "iopub.execute_input": "2023-11-27T06:41:36.031235Z",
     "iopub.status.busy": "2023-11-27T06:41:36.030866Z",
     "iopub.status.idle": "2023-11-27T06:41:36.043094Z",
     "shell.execute_reply": "2023-11-27T06:41:36.041936Z"
    },
    "papermill": {
     "duration": 0.024083,
     "end_time": "2023-11-27T06:41:36.045271",
     "exception": false,
     "start_time": "2023-11-27T06:41:36.021188",
     "status": "completed"
    },
    "tags": []
   },
   "outputs": [
    {
     "name": "stdout",
     "output_type": "stream",
     "text": [
      "     Rating                                             Review\n",
      "0       5.0  Amber and LaDonna at the Starbucks on Southwes...\n",
      "1       5.0  ** at the Starbucks by the fire station on 436...\n",
      "2       5.0  I just wanted to go out of my way to recognize...\n",
      "3       5.0  Me and my friend were at Starbucks and my card...\n",
      "4       5.0  I’m on this kick of drinking 5 cups of warm wa...\n",
      "..      ...                                                ...\n",
      "689     2.0  Earlier today (November 18th/11), I went to th...\n",
      "690     2.0  I visit Starbucks at least three times a week ...\n",
      "696     2.0  I ordered a tall split drip cup coffee 1/2 bol...\n",
      "701     3.0  My name is Ric **, I am journalist by professi...\n",
      "749     5.0  I found the coffee at Starbucks overrated and ...\n",
      "\n",
      "[254 rows x 2 columns]\n"
     ]
    }
   ],
   "source": [
    "df_copy = df_copy.drop(df_copy[df_copy['Rating'] == 1].index)\n",
    "\n",
    "print(df_copy)"
   ]
  },
  {
   "cell_type": "code",
   "execution_count": 12,
   "id": "0f4a78fb",
   "metadata": {
    "execution": {
     "iopub.execute_input": "2023-11-27T06:41:36.063280Z",
     "iopub.status.busy": "2023-11-27T06:41:36.062911Z",
     "iopub.status.idle": "2023-11-27T06:41:36.076812Z",
     "shell.execute_reply": "2023-11-27T06:41:36.075841Z"
    },
    "papermill": {
     "duration": 0.02555,
     "end_time": "2023-11-27T06:41:36.078921",
     "exception": false,
     "start_time": "2023-11-27T06:41:36.053371",
     "status": "completed"
    },
    "tags": []
   },
   "outputs": [
    {
     "data": {
      "text/html": [
       "<div>\n",
       "<style scoped>\n",
       "    .dataframe tbody tr th:only-of-type {\n",
       "        vertical-align: middle;\n",
       "    }\n",
       "\n",
       "    .dataframe tbody tr th {\n",
       "        vertical-align: top;\n",
       "    }\n",
       "\n",
       "    .dataframe thead th {\n",
       "        text-align: right;\n",
       "    }\n",
       "</style>\n",
       "<table border=\"1\" class=\"dataframe\">\n",
       "  <thead>\n",
       "    <tr style=\"text-align: right;\">\n",
       "      <th></th>\n",
       "      <th>Rating</th>\n",
       "      <th>Review</th>\n",
       "      <th>label</th>\n",
       "    </tr>\n",
       "  </thead>\n",
       "  <tbody>\n",
       "    <tr>\n",
       "      <th>504</th>\n",
       "      <td>2.0</td>\n",
       "      <td>Today at about 9 am I brought my granddaughter...</td>\n",
       "      <td>0</td>\n",
       "    </tr>\n",
       "    <tr>\n",
       "      <th>308</th>\n",
       "      <td>5.0</td>\n",
       "      <td>Food and drinks are excellent, and priced that...</td>\n",
       "      <td>1</td>\n",
       "    </tr>\n",
       "    <tr>\n",
       "      <th>326</th>\n",
       "      <td>5.0</td>\n",
       "      <td>When you go to a Starbucks you can expect qual...</td>\n",
       "      <td>1</td>\n",
       "    </tr>\n",
       "    <tr>\n",
       "      <th>319</th>\n",
       "      <td>5.0</td>\n",
       "      <td>I shop at Starbucks on a daily basis. I have a...</td>\n",
       "      <td>1</td>\n",
       "    </tr>\n",
       "    <tr>\n",
       "      <th>1</th>\n",
       "      <td>5.0</td>\n",
       "      <td>** at the Starbucks by the fire station on 436...</td>\n",
       "      <td>1</td>\n",
       "    </tr>\n",
       "  </tbody>\n",
       "</table>\n",
       "</div>"
      ],
      "text/plain": [
       "     Rating                                             Review  label\n",
       "504     2.0  Today at about 9 am I brought my granddaughter...      0\n",
       "308     5.0  Food and drinks are excellent, and priced that...      1\n",
       "326     5.0  When you go to a Starbucks you can expect qual...      1\n",
       "319     5.0  I shop at Starbucks on a daily basis. I have a...      1\n",
       "1       5.0  ** at the Starbucks by the fire station on 436...      1"
      ]
     },
     "execution_count": 12,
     "metadata": {},
     "output_type": "execute_result"
    }
   ],
   "source": [
    "df_copy['label'] = np.where(df_copy['Rating'] > 3, 1, 0) #Assign 1 when rating 3 or above else assign 0.\n",
    "df_copy.sample(5)"
   ]
  },
  {
   "cell_type": "markdown",
   "id": "6b64bdaf",
   "metadata": {
    "papermill": {
     "duration": 0.008051,
     "end_time": "2023-11-27T06:41:36.095721",
     "exception": false,
     "start_time": "2023-11-27T06:41:36.087670",
     "status": "completed"
    },
    "tags": []
   },
   "source": [
    "Now that the data has been loaded into a deep copy and the null data has been copied and removed the baseline can be set."
   ]
  },
  {
   "cell_type": "code",
   "execution_count": 13,
   "id": "95015daf",
   "metadata": {
    "execution": {
     "iopub.execute_input": "2023-11-27T06:41:36.114369Z",
     "iopub.status.busy": "2023-11-27T06:41:36.114002Z",
     "iopub.status.idle": "2023-11-27T06:41:37.276798Z",
     "shell.execute_reply": "2023-11-27T06:41:37.275675Z"
    },
    "papermill": {
     "duration": 1.175645,
     "end_time": "2023-11-27T06:41:37.279777",
     "exception": false,
     "start_time": "2023-11-27T06:41:36.104132",
     "status": "completed"
    },
    "tags": []
   },
   "outputs": [],
   "source": [
    "# split data into train and validation sets: df_train and df_val\n",
    "from sklearn.model_selection import train_test_split\n",
    "\n",
    "X = df_copy['Review'].copy()\n",
    "y = df_copy['label'].copy()\n",
    "\n",
    "X_train_raw, X_val_raw, y_train, y_val = train_test_split(X, y, test_size=0.20, random_state=42)"
   ]
  },
  {
   "cell_type": "code",
   "execution_count": 14,
   "id": "e598aedb",
   "metadata": {
    "execution": {
     "iopub.execute_input": "2023-11-27T06:41:37.299067Z",
     "iopub.status.busy": "2023-11-27T06:41:37.298688Z",
     "iopub.status.idle": "2023-11-27T06:41:37.354187Z",
     "shell.execute_reply": "2023-11-27T06:41:37.353288Z"
    },
    "papermill": {
     "duration": 0.067801,
     "end_time": "2023-11-27T06:41:37.356506",
     "exception": false,
     "start_time": "2023-11-27T06:41:37.288705",
     "status": "completed"
    },
    "tags": []
   },
   "outputs": [
    {
     "name": "stdout",
     "output_type": "stream",
     "text": [
      "X_train.shape = (203, 2432)\n"
     ]
    },
    {
     "data": {
      "text/plain": [
       "numpy.ndarray"
      ]
     },
     "execution_count": 14,
     "metadata": {},
     "output_type": "execute_result"
    }
   ],
   "source": [
    "from sklearn.feature_extraction.text import TfidfVectorizer\n",
    "#import seaborn as sns\n",
    "\n",
    "tfidf_vectorizer = TfidfVectorizer()\n",
    "X_train = tfidf_vectorizer.fit_transform(X_train_raw).toarray()\n",
    "\n",
    "# an alternative is to use term frequency:\n",
    "#from sklearn.feature_extraction.text import CountVectorizer\n",
    "#one_hot_vectorizer = CountVectorizer(binary=True)\n",
    "#X_train = one_hot_vectorizer.fit_transform(X_train_raw))\n",
    "\n",
    "print(f\"X_train.shape = {X_train.shape}\")\n",
    "type(X_train)"
   ]
  },
  {
   "cell_type": "code",
   "execution_count": 15,
   "id": "093ba690",
   "metadata": {
    "execution": {
     "iopub.execute_input": "2023-11-27T06:41:37.375428Z",
     "iopub.status.busy": "2023-11-27T06:41:37.375034Z",
     "iopub.status.idle": "2023-11-27T06:41:38.245878Z",
     "shell.execute_reply": "2023-11-27T06:41:38.244769Z"
    },
    "papermill": {
     "duration": 0.882986,
     "end_time": "2023-11-27T06:41:38.248260",
     "exception": false,
     "start_time": "2023-11-27T06:41:37.365274",
     "status": "completed"
    },
    "tags": []
   },
   "outputs": [
    {
     "name": "stdout",
     "output_type": "stream",
     "text": [
      "accuracy (on y_train): 1.0000\n"
     ]
    },
    {
     "data": {
      "image/png": "[encoded data removed]",
      "text/plain": [
       "<Figure size 640x480 with 2 Axes>"
      ]
     },
     "metadata": {},
     "output_type": "display_data"
    }
   ],
   "source": [
    "from sklearn.ensemble import RandomForestClassifier\n",
    "from sklearn.metrics import confusion_matrix, ConfusionMatrixDisplay, accuracy_score, mean_squared_error\n",
    "\n",
    "model = RandomForestClassifier(n_estimators=100)\n",
    "model = model.fit(X_train, y_train)\n",
    "\n",
    "predictions_train = model.predict(X_train)\n",
    "\n",
    "disp = ConfusionMatrixDisplay(confusion_matrix(y_train, predictions_train), display_labels=['0', '1'])\n",
    "disp.plot()\n",
    "print(f\"accuracy (on y_train): {accuracy_score(y_train, predictions_train):.4f}\")"
   ]
  },
  {
   "cell_type": "code",
   "execution_count": 16,
   "id": "cfa73783",
   "metadata": {
    "execution": {
     "iopub.execute_input": "2023-11-27T06:41:38.269766Z",
     "iopub.status.busy": "2023-11-27T06:41:38.268689Z",
     "iopub.status.idle": "2023-11-27T06:41:38.285525Z",
     "shell.execute_reply": "2023-11-27T06:41:38.284301Z"
    },
    "papermill": {
     "duration": 0.029746,
     "end_time": "2023-11-27T06:41:38.287857",
     "exception": false,
     "start_time": "2023-11-27T06:41:38.258111",
     "status": "completed"
    },
    "tags": []
   },
   "outputs": [
    {
     "name": "stdout",
     "output_type": "stream",
     "text": [
      "X_val.shape = (51, 2432)\n"
     ]
    },
    {
     "data": {
      "text/plain": [
       "numpy.ndarray"
      ]
     },
     "execution_count": 16,
     "metadata": {},
     "output_type": "execute_result"
    }
   ],
   "source": [
    "X_val = tfidf_vectorizer.transform(X_val_raw).toarray()\n",
    "print(f\"X_val.shape = {X_val.shape}\")\n",
    "type(X_val)"
   ]
  },
  {
   "cell_type": "code",
   "execution_count": 17,
   "id": "f0fdc882",
   "metadata": {
    "execution": {
     "iopub.execute_input": "2023-11-27T06:41:38.309217Z",
     "iopub.status.busy": "2023-11-27T06:41:38.308806Z",
     "iopub.status.idle": "2023-11-27T06:41:38.622929Z",
     "shell.execute_reply": "2023-11-27T06:41:38.621526Z"
    },
    "papermill": {
     "duration": 0.328189,
     "end_time": "2023-11-27T06:41:38.625378",
     "exception": false,
     "start_time": "2023-11-27T06:41:38.297189",
     "status": "completed"
    },
    "tags": []
   },
   "outputs": [
    {
     "name": "stdout",
     "output_type": "stream",
     "text": [
      "accuracy (on y_val): 0.8235\n",
      "mean squared error (on y_val): 0.1765\n"
     ]
    },
    {
     "data": {
      "image/png": "[encoded data removed]",
      "text/plain": [
       "<Figure size 640x480 with 2 Axes>"
      ]
     },
     "metadata": {},
     "output_type": "display_data"
    }
   ],
   "source": [
    "predictions_val = model.predict(X_val)\n",
    "disp = ConfusionMatrixDisplay(confusion_matrix(y_val, predictions_val), display_labels=['0', '1'])\n",
    "disp.plot()\n",
    "print(f\"accuracy (on y_val): {accuracy_score(y_val, predictions_val):.4f}\")\n",
    "print(f\"mean squared error (on y_val): {mean_squared_error(y_val, predictions_val):.4f}\")"
   ]
  },
  {
   "cell_type": "markdown",
   "id": "c6706e02",
   "metadata": {
    "papermill": {
     "duration": 0.009997,
     "end_time": "2023-11-27T06:41:38.645385",
     "exception": false,
     "start_time": "2023-11-27T06:41:38.635388",
     "status": "completed"
    },
    "tags": []
   },
   "source": [
    "# RandomForestClassifier Results!\n",
    "\n",
    "The model as a baseline has an accuracy of 0.7647. This is above the 0.75 accuracy that was desired to be acheived in part 1. The precision, recall, F1 score, and loss calculated using mean squared error are as follows:\n",
    "\n",
    "-Precision = .6923\n",
    "\n",
    "-Recall = .8182\n",
    "\n",
    "-F1 = .7500\n",
    "\n",
    "-loss = 0.2353\n",
    "\n",
    "The precision was not ideal but not terrible, and the F1 score could certainly be better. These results however are fine for the purposes of this project."
   ]
  },
  {
   "cell_type": "code",
   "execution_count": 18,
   "id": "5e9568dd",
   "metadata": {
    "execution": {
     "iopub.execute_input": "2023-11-27T06:41:38.668163Z",
     "iopub.status.busy": "2023-11-27T06:41:38.667792Z",
     "iopub.status.idle": "2023-11-27T06:41:41.407999Z",
     "shell.execute_reply": "2023-11-27T06:41:41.406742Z"
    },
    "papermill": {
     "duration": 2.754969,
     "end_time": "2023-11-27T06:41:41.410485",
     "exception": false,
     "start_time": "2023-11-27T06:41:38.655516",
     "status": "completed"
    },
    "tags": []
   },
   "outputs": [
    {
     "name": "stdout",
     "output_type": "stream",
     "text": [
      "accuracy (on y_train): 1.0000\n"
     ]
    },
    {
     "data": {
      "image/png": "[encoded data removed]",
      "text/plain": [
       "<Figure size 640x480 with 2 Axes>"
      ]
     },
     "metadata": {},
     "output_type": "display_data"
    }
   ],
   "source": [
    "\n",
    "\n",
    "from sklearn.ensemble import HistGradientBoostingClassifier\n",
    "\n",
    "model2 = HistGradientBoostingClassifier(max_leaf_nodes = 31)\n",
    "model2 = model2.fit(X_train, y_train)\n",
    "\n",
    "predictions_train = model2.predict(X_train)\n",
    "\n",
    "disp = ConfusionMatrixDisplay(confusion_matrix(y_train, predictions_train), display_labels=['0', '1'])\n",
    "disp.plot()\n",
    "print(f\"accuracy (on y_train): {accuracy_score(y_train, predictions_train):.4f}\")"
   ]
  },
  {
   "cell_type": "code",
   "execution_count": 19,
   "id": "a6ff27a1",
   "metadata": {
    "execution": {
     "iopub.execute_input": "2023-11-27T06:41:41.433290Z",
     "iopub.status.busy": "2023-11-27T06:41:41.432519Z",
     "iopub.status.idle": "2023-11-27T06:41:41.731409Z",
     "shell.execute_reply": "2023-11-27T06:41:41.730190Z"
    },
    "papermill": {
     "duration": 0.312752,
     "end_time": "2023-11-27T06:41:41.733775",
     "exception": false,
     "start_time": "2023-11-27T06:41:41.421023",
     "status": "completed"
    },
    "tags": []
   },
   "outputs": [
    {
     "name": "stdout",
     "output_type": "stream",
     "text": [
      "accuracy (on y_val): 0.8235\n",
      "mean squared error (on y_val): 0.2549\n"
     ]
    },
    {
     "data": {
      "image/png": "[encoded data removed]",
      "text/plain": [
       "<Figure size 640x480 with 2 Axes>"
      ]
     },
     "metadata": {},
     "output_type": "display_data"
    }
   ],
   "source": [
    "predictions_val2 = model2.predict(X_val)\n",
    "disp = ConfusionMatrixDisplay(confusion_matrix(y_val, predictions_val2), display_labels=['0', '1'])\n",
    "disp.plot()\n",
    "print(f\"accuracy (on y_val): {accuracy_score(y_val, predictions_val):.4f}\")\n",
    "print(f\"mean squared error (on y_val): {mean_squared_error(y_val, predictions_val2):.4f}\")"
   ]
  },
  {
   "cell_type": "markdown",
   "id": "e740cd61",
   "metadata": {
    "papermill": {
     "duration": 0.010162,
     "end_time": "2023-11-27T06:41:41.754247",
     "exception": false,
     "start_time": "2023-11-27T06:41:41.744085",
     "status": "completed"
    },
    "tags": []
   },
   "source": [
    "# HistGradientBoostingClassifier Results!\n",
    "\n",
    "The second model has an accuracy of 0.7647. As with the RandomForestClassifier we will also calculate the precision, recall, F1 score, and loss calculated using mean squared error:\n",
    "\n",
    "-Precision = .6800\n",
    "\n",
    "-Recall = .7727\n",
    "\n",
    "-F1 = .7234\n",
    "\n",
    "-loss = 0.2549\n",
    "\n",
    "Overall, the second model did about the same as the RandomForestClassifier, though the second model could also use some improvement. This is where adjusting the hyperparameters should have an effect. Next we will adjust the hyperparameters of both models to see the changes to their accuracy and metrics if any.\n",
    "\n",
    "Starting with n_estimators and max_depth in RandomForestClassifier "
   ]
  },
  {
   "cell_type": "code",
   "execution_count": 20,
   "id": "0f3e8e26",
   "metadata": {
    "execution": {
     "iopub.execute_input": "2023-11-27T06:41:41.777304Z",
     "iopub.status.busy": "2023-11-27T06:41:41.776589Z",
     "iopub.status.idle": "2023-11-27T06:41:42.323311Z",
     "shell.execute_reply": "2023-11-27T06:41:42.322213Z"
    },
    "papermill": {
     "duration": 0.561265,
     "end_time": "2023-11-27T06:41:42.325864",
     "exception": false,
     "start_time": "2023-11-27T06:41:41.764599",
     "status": "completed"
    },
    "tags": []
   },
   "outputs": [
    {
     "name": "stdout",
     "output_type": "stream",
     "text": [
      "accuracy (on y_train): 1.0000\n"
     ]
    },
    {
     "data": {
      "image/png": "[encoded data removed]",
      "text/plain": [
       "<Figure size 640x480 with 2 Axes>"
      ]
     },
     "metadata": {},
     "output_type": "display_data"
    }
   ],
   "source": [
    "model = RandomForestClassifier(n_estimators = 105)\n",
    "model = model.fit(X_train, y_train)\n",
    "\n",
    "predictions_train = model.predict(X_train)\n",
    "\n",
    "disp = ConfusionMatrixDisplay(confusion_matrix(y_train, predictions_train), display_labels=['0', '1'])\n",
    "disp.plot()\n",
    "print(f\"accuracy (on y_train): {accuracy_score(y_train, predictions_train):.4f}\")"
   ]
  },
  {
   "cell_type": "code",
   "execution_count": 21,
   "id": "3761a6b7",
   "metadata": {
    "execution": {
     "iopub.execute_input": "2023-11-27T06:41:42.349433Z",
     "iopub.status.busy": "2023-11-27T06:41:42.349033Z",
     "iopub.status.idle": "2023-11-27T06:41:42.627263Z",
     "shell.execute_reply": "2023-11-27T06:41:42.626260Z"
    },
    "papermill": {
     "duration": 0.293066,
     "end_time": "2023-11-27T06:41:42.629675",
     "exception": false,
     "start_time": "2023-11-27T06:41:42.336609",
     "status": "completed"
    },
    "tags": []
   },
   "outputs": [
    {
     "name": "stdout",
     "output_type": "stream",
     "text": [
      "accuracy (on y_val): 0.7843\n",
      "mean squared error (on y_val): 0.2157\n"
     ]
    },
    {
     "data": {
      "image/png": "[encoded data removed]",
      "text/plain": [
       "<Figure size 640x480 with 2 Axes>"
      ]
     },
     "metadata": {},
     "output_type": "display_data"
    }
   ],
   "source": [
    "predictions_val = model.predict(X_val)\n",
    "disp = ConfusionMatrixDisplay(confusion_matrix(y_val, predictions_val), display_labels=['0', '1'])\n",
    "disp.plot()\n",
    "print(f\"accuracy (on y_val): {accuracy_score(y_val, predictions_val):.4f}\")\n",
    "print(f\"mean squared error (on y_val): {mean_squared_error(y_val, predictions_val):.4f}\")"
   ]
  },
  {
   "cell_type": "markdown",
   "id": "a25f1643",
   "metadata": {
    "papermill": {
     "duration": 0.010949,
     "end_time": "2023-11-27T06:41:42.651890",
     "exception": false,
     "start_time": "2023-11-27T06:41:42.640941",
     "status": "completed"
    },
    "tags": []
   },
   "source": [
    "# Adjusted RandomForestClassifier hyperparameter Results\n",
    "\n",
    "The adjusted hyperparameters of RandomForestClassifier did not change very much to the original accuracy after testing both n_estimators (number of trees in the forest) and max_depth (the maximum depth of an individual tree in the forest). n_estimators was changed from the default 100 to 110, 105, 95, and 90. The results were inconsistant over multiple iterations, however, the greatest change to the accuracy was at 105. The Results are as follows: \n",
    "\n",
    "-110: 0.7843\n",
    "\n",
    "-105: 0.8431\n",
    "\n",
    "-95: 0.8235\n",
    "\n",
    "-90: 0.7647\n",
    "\n",
    "From these results the best n_estimators was chosen that being 50. Next max_depth was tested at 3, 4, 5, and 10 with the default being none and the best results being from 5 once again:\n",
    "\n",
    "-3: 0.7843\n",
    "\n",
    "-4: 0.8235\n",
    "\n",
    "-5: 0.8235\n",
    "\n",
    "-10: 0.8039\n",
    "\n",
    "From these results 105 was the best value chosen for max_depth. When these two hyperparameters were both changed, both using the best outcomes from both changes, that being 105 n_estimators and 5 max_depth, the results were less accurate than either used seperately. Thus for the final results above only n_estimators was adjusted to 105. The overall results for the chosen hyperparameters is:\n",
    "\n",
    "Accuracy: 0.8431\n",
    "\n",
    "Precision: 0.7917\n",
    "\n",
    "Recall: 0.8636\n",
    "\n",
    "F1: 0.8166\n",
    "\n",
    "Loss: 0.1569\n",
    "\n",
    "Accuracy, Precision, and F1 results all improved, while Recall did not.\n",
    "\n",
    "Next we will adjust the hyperparameters of max_leaf_nodes and max_iter for HistGradientBoostingClassifier."
   ]
  },
  {
   "cell_type": "code",
   "execution_count": 22,
   "id": "49937e3d",
   "metadata": {
    "execution": {
     "iopub.execute_input": "2023-11-27T06:41:42.676664Z",
     "iopub.status.busy": "2023-11-27T06:41:42.675867Z",
     "iopub.status.idle": "2023-11-27T06:41:45.478778Z",
     "shell.execute_reply": "2023-11-27T06:41:45.477583Z"
    },
    "papermill": {
     "duration": 2.817859,
     "end_time": "2023-11-27T06:41:45.481178",
     "exception": false,
     "start_time": "2023-11-27T06:41:42.663319",
     "status": "completed"
    },
    "tags": []
   },
   "outputs": [
    {
     "name": "stdout",
     "output_type": "stream",
     "text": [
      "accuracy (on y_train): 1.0000\n"
     ]
    },
    {
     "data": {
      "image/png": "[encoded data removed]",
      "text/plain": [
       "<Figure size 640x480 with 2 Axes>"
      ]
     },
     "metadata": {},
     "output_type": "display_data"
    }
   ],
   "source": [
    "\n",
    "\n",
    "model2 = HistGradientBoostingClassifier(max_leaf_nodes = 10)\n",
    "model2 = model2.fit(X_train, y_train)\n",
    "\n",
    "predictions_train = model2.predict(X_train)\n",
    "\n",
    "disp = ConfusionMatrixDisplay(confusion_matrix(y_train, predictions_train), display_labels=['0', '1'])\n",
    "disp.plot()\n",
    "print(f\"accuracy (on y_train): {accuracy_score(y_train, predictions_train):.4f}\")"
   ]
  },
  {
   "cell_type": "code",
   "execution_count": 23,
   "id": "5900bf65",
   "metadata": {
    "execution": {
     "iopub.execute_input": "2023-11-27T06:41:45.574819Z",
     "iopub.status.busy": "2023-11-27T06:41:45.574122Z",
     "iopub.status.idle": "2023-11-27T06:41:46.010170Z",
     "shell.execute_reply": "2023-11-27T06:41:46.009302Z"
    },
    "papermill": {
     "duration": 0.519621,
     "end_time": "2023-11-27T06:41:46.012860",
     "exception": false,
     "start_time": "2023-11-27T06:41:45.493239",
     "status": "completed"
    },
    "tags": []
   },
   "outputs": [
    {
     "name": "stdout",
     "output_type": "stream",
     "text": [
      "accuracy (on y_val): 0.7843\n",
      "mean squared error (on y_val): 0.2549\n"
     ]
    },
    {
     "data": {
      "image/png": "[encoded data removed]",
      "text/plain": [
       "<Figure size 640x480 with 2 Axes>"
      ]
     },
     "metadata": {},
     "output_type": "display_data"
    }
   ],
   "source": [
    "predictions_val2 = model2.predict(X_val)\n",
    "disp = ConfusionMatrixDisplay(confusion_matrix(y_val, predictions_val2), display_labels=['0', '1'])\n",
    "disp.plot()\n",
    "print(f\"accuracy (on y_val): {accuracy_score(y_val, predictions_val):.4f}\")\n",
    "print(f\"mean squared error (on y_val): {mean_squared_error(y_val, predictions_val2):.4f}\")"
   ]
  }
 ],
 "metadata": {
  "kaggle": {
   "accelerator": "none",
   "dataSources": [
    {
     "datasetId": 3741616,
     "sourceId": 6476914,
     "sourceType": "datasetVersion"
    }
   ],
   "dockerImageVersionId": 30587,
   "isGpuEnabled": false,
   "isInternetEnabled": true,
   "language": "python",
   "sourceType": "notebook"
  },
  "kernelspec": {
   "display_name": "Python 3",
   "language": "python",
   "name": "python3"
  },
  "language_info": {
   "codemirror_mode": {
    "name": "ipython",
    "version": 3
   },
   "file_extension": ".py",
   "mimetype": "text/x-python",
   "name": "python",
   "nbconvert_exporter": "python",
   "pygments_lexer": "ipython3",
   "version": "3.10.12"
  },
  "papermill": {
   "default_parameters": {},
   "duration": 14.424545,
   "end_time": "2023-11-27T06:41:46.652596",
   "environment_variables": {},
   "exception": null,
   "input_path": "__notebook__.ipynb",
   "output_path": "__notebook__.ipynb",
   "parameters": {},
   "start_time": "2023-11-27T06:41:32.228051",
   "version": "2.4.0"
  }
 },
 "nbformat": 4,
 "nbformat_minor": 5
}
